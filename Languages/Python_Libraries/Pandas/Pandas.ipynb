{
 "metadata": {
  "language_info": {
   "codemirror_mode": {
    "name": "ipython",
    "version": 3
   },
   "file_extension": ".py",
   "mimetype": "text/x-python",
   "name": "python",
   "nbconvert_exporter": "python",
   "pygments_lexer": "ipython3",
   "version": "3.9.1-final"
  },
  "orig_nbformat": 2,
  "kernelspec": {
   "name": "python3",
   "display_name": "Python 3.9.1 64-bit",
   "metadata": {
    "interpreter": {
     "hash": "63fd5069d213b44bf678585dea6b12cceca9941eaf7f819626cde1f2670de90d"
    }
   }
  }
 },
 "nbformat": 4,
 "nbformat_minor": 2,
 "cells": [
  {
   "cell_type": "code",
   "execution_count": 36,
   "metadata": {},
   "outputs": [
    {
     "output_type": "execute_result",
     "data": {
      "text/plain": [
       "0                  Bulbasaur\n",
       "1                    Ivysaur\n",
       "2                   Venusaur\n",
       "3      VenusaurMega Venusaur\n",
       "4                 Charmander\n",
       "               ...          \n",
       "795                  Diancie\n",
       "796      DiancieMega Diancie\n",
       "797      HoopaHoopa Confined\n",
       "798       HoopaHoopa Unbound\n",
       "799                Volcanion\n",
       "Name: Name, Length: 800, dtype: object"
      ]
     },
     "metadata": {},
     "execution_count": 36
    }
   ],
   "source": [
    "import pandas as pd\n",
    "\n",
    "df = pd.read_csv('pokemon_data.csv')\n",
    "# print(df.head(3))\n",
    "\n",
    "df_xlsx = pd.read_excel('pokemon_data.xlsx')\n",
    "# print(df_xlsx.head(3))\n",
    "\n",
    "#reading txt file using read_csv\n",
    "df_txt = pd.read_csv('pokemon_data.txt', delimiter='\\t')\n",
    "# print(df_txt.head(5))\n",
    "\n",
    "#Headers\n",
    "# df.columns\n",
    "\n",
    "#Read single column (last 5)\n",
    "# df['Name'][-5:]\n",
    "\n",
    "#Read multiple columns\n",
    "# df[['Name', 'HP']][0:5]\n",
    "\n",
    "#Read single row\n",
    "# df.iloc[1]\n",
    "\n",
    "#Read multiple rows\n",
    "# df.iloc[1:8]\n",
    "\n",
    "#Read specific location (row , column)\n",
    "# df.iloc[3,1]\n",
    "\n",
    "#Read specific rows and columns \n",
    "# df[['Name', 'Type 1', 'Type 2']].iloc[0:5]\n",
    "\n",
    "# itterate over rows (usefull for data manipulation)\n",
    "# for index, row in df.iterrows():\n",
    "#     print(index, row['Name'])\n",
    "\n",
    "# df['Name'].iloc[:]"
   ]
  },
  {
   "cell_type": "code",
   "execution_count": null,
   "metadata": {},
   "outputs": [],
   "source": []
  }
 ]
}