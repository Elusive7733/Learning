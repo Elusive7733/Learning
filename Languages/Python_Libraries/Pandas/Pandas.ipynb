{
 "metadata": {
  "language_info": {
   "codemirror_mode": {
    "name": "ipython",
    "version": 3
   },
   "file_extension": ".py",
   "mimetype": "text/x-python",
   "name": "python",
   "nbconvert_exporter": "python",
   "pygments_lexer": "ipython3",
   "version": "3.9.1-final"
  },
  "orig_nbformat": 2,
  "kernelspec": {
   "name": "python3",
   "display_name": "Python 3.9.1 64-bit",
   "metadata": {
    "interpreter": {
     "hash": "63fd5069d213b44bf678585dea6b12cceca9941eaf7f819626cde1f2670de90d"
    }
   }
  }
 },
 "nbformat": 4,
 "nbformat_minor": 2,
 "cells": [
  {
   "cell_type": "code",
   "execution_count": 2,
   "metadata": {},
   "outputs": [],
   "source": [
    "#pip install pandas\n",
    "#read all the comments\n",
    "import pandas as pd\n",
    "\n",
    "df = pd.read_csv('pokemon_data.csv')\n",
    "# print(df.head(3))\n",
    "\n",
    "df_xlsx = pd.read_excel('pokemon_data.xlsx')\n",
    "# print(df_xlsx.head(3))\n",
    "\n",
    "#reading txt file using read_csv\n",
    "df_txt = pd.read_csv('pokemon_data.txt', delimiter='\\t')\n",
    "# print(df_txt.head(5))\n"
   ]
  },
  {
   "cell_type": "code",
   "execution_count": 3,
   "metadata": {},
   "outputs": [
    {
     "output_type": "execute_result",
     "data": {
      "text/plain": [
       "Index(['#', 'Name', 'Type 1', 'Type 2', 'HP', 'Attack', 'Defense', 'Sp. Atk',\n",
       "       'Sp. Def', 'Speed', 'Generation', 'Legendary'],\n",
       "      dtype='object')"
      ]
     },
     "metadata": {},
     "execution_count": 3
    }
   ],
   "source": [
    "#Headers\n",
    "df.columns"
   ]
  },
  {
   "cell_type": "code",
   "execution_count": 4,
   "metadata": {},
   "outputs": [
    {
     "output_type": "execute_result",
     "data": {
      "text/plain": [
       "795                Diancie\n",
       "796    DiancieMega Diancie\n",
       "797    HoopaHoopa Confined\n",
       "798     HoopaHoopa Unbound\n",
       "799              Volcanion\n",
       "Name: Name, dtype: object"
      ]
     },
     "metadata": {},
     "execution_count": 4
    }
   ],
   "source": [
    "#Read single column (last 5)\n",
    "df['Name'][-5:]"
   ]
  },
  {
   "cell_type": "code",
   "execution_count": 5,
   "metadata": {},
   "outputs": [
    {
     "output_type": "execute_result",
     "data": {
      "text/plain": [
       "                    Name  HP\n",
       "0              Bulbasaur  45\n",
       "1                Ivysaur  60\n",
       "2               Venusaur  80\n",
       "3  VenusaurMega Venusaur  80\n",
       "4             Charmander  39"
      ],
      "text/html": "<div>\n<style scoped>\n    .dataframe tbody tr th:only-of-type {\n        vertical-align: middle;\n    }\n\n    .dataframe tbody tr th {\n        vertical-align: top;\n    }\n\n    .dataframe thead th {\n        text-align: right;\n    }\n</style>\n<table border=\"1\" class=\"dataframe\">\n  <thead>\n    <tr style=\"text-align: right;\">\n      <th></th>\n      <th>Name</th>\n      <th>HP</th>\n    </tr>\n  </thead>\n  <tbody>\n    <tr>\n      <th>0</th>\n      <td>Bulbasaur</td>\n      <td>45</td>\n    </tr>\n    <tr>\n      <th>1</th>\n      <td>Ivysaur</td>\n      <td>60</td>\n    </tr>\n    <tr>\n      <th>2</th>\n      <td>Venusaur</td>\n      <td>80</td>\n    </tr>\n    <tr>\n      <th>3</th>\n      <td>VenusaurMega Venusaur</td>\n      <td>80</td>\n    </tr>\n    <tr>\n      <th>4</th>\n      <td>Charmander</td>\n      <td>39</td>\n    </tr>\n  </tbody>\n</table>\n</div>"
     },
     "metadata": {},
     "execution_count": 5
    }
   ],
   "source": [
    "#Read multiple columns\n",
    "df[['Name', 'HP']][0:5]"
   ]
  },
  {
   "cell_type": "code",
   "execution_count": 6,
   "metadata": {},
   "outputs": [
    {
     "output_type": "execute_result",
     "data": {
      "text/plain": [
       "#                   2\n",
       "Name          Ivysaur\n",
       "Type 1          Grass\n",
       "Type 2         Poison\n",
       "HP                 60\n",
       "Attack             62\n",
       "Defense            63\n",
       "Sp. Atk            80\n",
       "Sp. Def            80\n",
       "Speed              60\n",
       "Generation          1\n",
       "Legendary       False\n",
       "Name: 1, dtype: object"
      ]
     },
     "metadata": {},
     "execution_count": 6
    }
   ],
   "source": [
    "#Read single row\n",
    "df.iloc[1]"
   ]
  },
  {
   "cell_type": "code",
   "execution_count": 7,
   "metadata": {},
   "outputs": [
    {
     "output_type": "execute_result",
     "data": {
      "text/plain": [
       "   #                       Name Type 1  Type 2  HP  Attack  Defense  Sp. Atk  \\\n",
       "1  2                    Ivysaur  Grass  Poison  60      62       63       80   \n",
       "2  3                   Venusaur  Grass  Poison  80      82       83      100   \n",
       "3  3      VenusaurMega Venusaur  Grass  Poison  80     100      123      122   \n",
       "4  4                 Charmander   Fire     NaN  39      52       43       60   \n",
       "5  5                 Charmeleon   Fire     NaN  58      64       58       80   \n",
       "6  6                  Charizard   Fire  Flying  78      84       78      109   \n",
       "7  6  CharizardMega Charizard X   Fire  Dragon  78     130      111      130   \n",
       "\n",
       "   Sp. Def  Speed  Generation  Legendary  \n",
       "1       80     60           1      False  \n",
       "2      100     80           1      False  \n",
       "3      120     80           1      False  \n",
       "4       50     65           1      False  \n",
       "5       65     80           1      False  \n",
       "6       85    100           1      False  \n",
       "7       85    100           1      False  "
      ],
      "text/html": "<div>\n<style scoped>\n    .dataframe tbody tr th:only-of-type {\n        vertical-align: middle;\n    }\n\n    .dataframe tbody tr th {\n        vertical-align: top;\n    }\n\n    .dataframe thead th {\n        text-align: right;\n    }\n</style>\n<table border=\"1\" class=\"dataframe\">\n  <thead>\n    <tr style=\"text-align: right;\">\n      <th></th>\n      <th>#</th>\n      <th>Name</th>\n      <th>Type 1</th>\n      <th>Type 2</th>\n      <th>HP</th>\n      <th>Attack</th>\n      <th>Defense</th>\n      <th>Sp. Atk</th>\n      <th>Sp. Def</th>\n      <th>Speed</th>\n      <th>Generation</th>\n      <th>Legendary</th>\n    </tr>\n  </thead>\n  <tbody>\n    <tr>\n      <th>1</th>\n      <td>2</td>\n      <td>Ivysaur</td>\n      <td>Grass</td>\n      <td>Poison</td>\n      <td>60</td>\n      <td>62</td>\n      <td>63</td>\n      <td>80</td>\n      <td>80</td>\n      <td>60</td>\n      <td>1</td>\n      <td>False</td>\n    </tr>\n    <tr>\n      <th>2</th>\n      <td>3</td>\n      <td>Venusaur</td>\n      <td>Grass</td>\n      <td>Poison</td>\n      <td>80</td>\n      <td>82</td>\n      <td>83</td>\n      <td>100</td>\n      <td>100</td>\n      <td>80</td>\n      <td>1</td>\n      <td>False</td>\n    </tr>\n    <tr>\n      <th>3</th>\n      <td>3</td>\n      <td>VenusaurMega Venusaur</td>\n      <td>Grass</td>\n      <td>Poison</td>\n      <td>80</td>\n      <td>100</td>\n      <td>123</td>\n      <td>122</td>\n      <td>120</td>\n      <td>80</td>\n      <td>1</td>\n      <td>False</td>\n    </tr>\n    <tr>\n      <th>4</th>\n      <td>4</td>\n      <td>Charmander</td>\n      <td>Fire</td>\n      <td>NaN</td>\n      <td>39</td>\n      <td>52</td>\n      <td>43</td>\n      <td>60</td>\n      <td>50</td>\n      <td>65</td>\n      <td>1</td>\n      <td>False</td>\n    </tr>\n    <tr>\n      <th>5</th>\n      <td>5</td>\n      <td>Charmeleon</td>\n      <td>Fire</td>\n      <td>NaN</td>\n      <td>58</td>\n      <td>64</td>\n      <td>58</td>\n      <td>80</td>\n      <td>65</td>\n      <td>80</td>\n      <td>1</td>\n      <td>False</td>\n    </tr>\n    <tr>\n      <th>6</th>\n      <td>6</td>\n      <td>Charizard</td>\n      <td>Fire</td>\n      <td>Flying</td>\n      <td>78</td>\n      <td>84</td>\n      <td>78</td>\n      <td>109</td>\n      <td>85</td>\n      <td>100</td>\n      <td>1</td>\n      <td>False</td>\n    </tr>\n    <tr>\n      <th>7</th>\n      <td>6</td>\n      <td>CharizardMega Charizard X</td>\n      <td>Fire</td>\n      <td>Dragon</td>\n      <td>78</td>\n      <td>130</td>\n      <td>111</td>\n      <td>130</td>\n      <td>85</td>\n      <td>100</td>\n      <td>1</td>\n      <td>False</td>\n    </tr>\n  </tbody>\n</table>\n</div>"
     },
     "metadata": {},
     "execution_count": 7
    }
   ],
   "source": [
    "#Read multiple rows\n",
    "df.iloc[1:8]"
   ]
  },
  {
   "cell_type": "code",
   "execution_count": 8,
   "metadata": {},
   "outputs": [
    {
     "output_type": "execute_result",
     "data": {
      "text/plain": [
       "'VenusaurMega Venusaur'"
      ]
     },
     "metadata": {},
     "execution_count": 8
    }
   ],
   "source": [
    "#Read specific location [row , column]\n",
    "df.iloc[3,1]"
   ]
  },
  {
   "cell_type": "code",
   "execution_count": 22,
   "metadata": {},
   "outputs": [
    {
     "output_type": "execute_result",
     "data": {
      "text/plain": [
       "   #                   Name Type 1  Type 2\n",
       "0  1              Bulbasaur  Grass  Poison\n",
       "1  2                Ivysaur  Grass  Poison\n",
       "2  3               Venusaur  Grass  Poison\n",
       "3  3  VenusaurMega Venusaur  Grass  Poison\n",
       "4  4             Charmander   Fire     NaN"
      ],
      "text/html": "<div>\n<style scoped>\n    .dataframe tbody tr th:only-of-type {\n        vertical-align: middle;\n    }\n\n    .dataframe tbody tr th {\n        vertical-align: top;\n    }\n\n    .dataframe thead th {\n        text-align: right;\n    }\n</style>\n<table border=\"1\" class=\"dataframe\">\n  <thead>\n    <tr style=\"text-align: right;\">\n      <th></th>\n      <th>#</th>\n      <th>Name</th>\n      <th>Type 1</th>\n      <th>Type 2</th>\n    </tr>\n  </thead>\n  <tbody>\n    <tr>\n      <th>0</th>\n      <td>1</td>\n      <td>Bulbasaur</td>\n      <td>Grass</td>\n      <td>Poison</td>\n    </tr>\n    <tr>\n      <th>1</th>\n      <td>2</td>\n      <td>Ivysaur</td>\n      <td>Grass</td>\n      <td>Poison</td>\n    </tr>\n    <tr>\n      <th>2</th>\n      <td>3</td>\n      <td>Venusaur</td>\n      <td>Grass</td>\n      <td>Poison</td>\n    </tr>\n    <tr>\n      <th>3</th>\n      <td>3</td>\n      <td>VenusaurMega Venusaur</td>\n      <td>Grass</td>\n      <td>Poison</td>\n    </tr>\n    <tr>\n      <th>4</th>\n      <td>4</td>\n      <td>Charmander</td>\n      <td>Fire</td>\n      <td>NaN</td>\n    </tr>\n  </tbody>\n</table>\n</div>"
     },
     "metadata": {},
     "execution_count": 22
    }
   ],
   "source": [
    "#Read specific rows and columns \n",
    "df[['Name', 'Type 1', 'Type 2']].iloc[0:5]\n",
    "# df.iloc[0:5,0:4]"
   ]
  },
  {
   "cell_type": "code",
   "execution_count": 25,
   "metadata": {},
   "outputs": [],
   "source": [
    "# itterate over rows (useful for data manipulation)\n",
    "for index, row in df.iterrows():\n",
    "    print(index, row['Name'])\n",
    "\n",
    "# df['Name'].iloc[:]"
   ]
  },
  {
   "cell_type": "code",
   "execution_count": 24,
   "metadata": {},
   "outputs": [
    {
     "output_type": "execute_result",
     "data": {
      "text/plain": [
       "       #         Name Type 1  Type 2  HP  Attack  Defense  Sp. Atk  Sp. Def  \\\n",
       "730  662  Fletchinder   Fire  Flying  62      73       55       56       52   \n",
       "731  663   Talonflame   Fire  Flying  78      81       71       74       69   \n",
       "735  667       Litleo   Fire  Normal  62      50       58       73       54   \n",
       "736  668       Pyroar   Fire  Normal  86      68       72      109       66   \n",
       "799  721    Volcanion   Fire   Water  80     110      120      130       90   \n",
       "\n",
       "     Speed  Generation  Legendary  \n",
       "730     84           6      False  \n",
       "731    126           6      False  \n",
       "735     72           6      False  \n",
       "736    106           6      False  \n",
       "799     70           6       True  "
      ],
      "text/html": "<div>\n<style scoped>\n    .dataframe tbody tr th:only-of-type {\n        vertical-align: middle;\n    }\n\n    .dataframe tbody tr th {\n        vertical-align: top;\n    }\n\n    .dataframe thead th {\n        text-align: right;\n    }\n</style>\n<table border=\"1\" class=\"dataframe\">\n  <thead>\n    <tr style=\"text-align: right;\">\n      <th></th>\n      <th>#</th>\n      <th>Name</th>\n      <th>Type 1</th>\n      <th>Type 2</th>\n      <th>HP</th>\n      <th>Attack</th>\n      <th>Defense</th>\n      <th>Sp. Atk</th>\n      <th>Sp. Def</th>\n      <th>Speed</th>\n      <th>Generation</th>\n      <th>Legendary</th>\n    </tr>\n  </thead>\n  <tbody>\n    <tr>\n      <th>730</th>\n      <td>662</td>\n      <td>Fletchinder</td>\n      <td>Fire</td>\n      <td>Flying</td>\n      <td>62</td>\n      <td>73</td>\n      <td>55</td>\n      <td>56</td>\n      <td>52</td>\n      <td>84</td>\n      <td>6</td>\n      <td>False</td>\n    </tr>\n    <tr>\n      <th>731</th>\n      <td>663</td>\n      <td>Talonflame</td>\n      <td>Fire</td>\n      <td>Flying</td>\n      <td>78</td>\n      <td>81</td>\n      <td>71</td>\n      <td>74</td>\n      <td>69</td>\n      <td>126</td>\n      <td>6</td>\n      <td>False</td>\n    </tr>\n    <tr>\n      <th>735</th>\n      <td>667</td>\n      <td>Litleo</td>\n      <td>Fire</td>\n      <td>Normal</td>\n      <td>62</td>\n      <td>50</td>\n      <td>58</td>\n      <td>73</td>\n      <td>54</td>\n      <td>72</td>\n      <td>6</td>\n      <td>False</td>\n    </tr>\n    <tr>\n      <th>736</th>\n      <td>668</td>\n      <td>Pyroar</td>\n      <td>Fire</td>\n      <td>Normal</td>\n      <td>86</td>\n      <td>68</td>\n      <td>72</td>\n      <td>109</td>\n      <td>66</td>\n      <td>106</td>\n      <td>6</td>\n      <td>False</td>\n    </tr>\n    <tr>\n      <th>799</th>\n      <td>721</td>\n      <td>Volcanion</td>\n      <td>Fire</td>\n      <td>Water</td>\n      <td>80</td>\n      <td>110</td>\n      <td>120</td>\n      <td>130</td>\n      <td>90</td>\n      <td>70</td>\n      <td>6</td>\n      <td>True</td>\n    </tr>\n  </tbody>\n</table>\n</div>"
     },
     "metadata": {},
     "execution_count": 24
    }
   ],
   "source": [
    "#conditional statements\n",
    "df.loc[df['Type 1'] == \"Fire\"][-5:]"
   ]
  },
  {
   "cell_type": "code",
   "execution_count": 27,
   "metadata": {},
   "outputs": [],
   "source": [
    "#find important mathematical information about the data like mean, variance ect\n",
    "df.describe()"
   ]
  },
  {
   "cell_type": "code",
   "execution_count": 31,
   "metadata": {},
   "outputs": [
    {
     "output_type": "execute_result",
     "data": {
      "text/plain": [
       "       #                     Name Type 1    Type 2  HP  Attack  Defense  \\\n",
       "520  469                  Yanmega    Bug    Flying  86      76       86   \n",
       "698  637                Volcarona    Bug      Fire  85      60       65   \n",
       "231  214                Heracross    Bug  Fighting  80     125       75   \n",
       "232  214  HeracrossMega Heracross    Bug  Fighting  80     185      115   \n",
       "678  617                 Accelgor    Bug       NaN  80      70       40   \n",
       "\n",
       "     Sp. Atk  Sp. Def  Speed  Generation  Legendary  \n",
       "520      116       56     95           4      False  \n",
       "698      135      105    100           5      False  \n",
       "231       40       95     85           2      False  \n",
       "232       40      105     75           2      False  \n",
       "678      100       60    145           5      False  "
      ],
      "text/html": "<div>\n<style scoped>\n    .dataframe tbody tr th:only-of-type {\n        vertical-align: middle;\n    }\n\n    .dataframe tbody tr th {\n        vertical-align: top;\n    }\n\n    .dataframe thead th {\n        text-align: right;\n    }\n</style>\n<table border=\"1\" class=\"dataframe\">\n  <thead>\n    <tr style=\"text-align: right;\">\n      <th></th>\n      <th>#</th>\n      <th>Name</th>\n      <th>Type 1</th>\n      <th>Type 2</th>\n      <th>HP</th>\n      <th>Attack</th>\n      <th>Defense</th>\n      <th>Sp. Atk</th>\n      <th>Sp. Def</th>\n      <th>Speed</th>\n      <th>Generation</th>\n      <th>Legendary</th>\n    </tr>\n  </thead>\n  <tbody>\n    <tr>\n      <th>520</th>\n      <td>469</td>\n      <td>Yanmega</td>\n      <td>Bug</td>\n      <td>Flying</td>\n      <td>86</td>\n      <td>76</td>\n      <td>86</td>\n      <td>116</td>\n      <td>56</td>\n      <td>95</td>\n      <td>4</td>\n      <td>False</td>\n    </tr>\n    <tr>\n      <th>698</th>\n      <td>637</td>\n      <td>Volcarona</td>\n      <td>Bug</td>\n      <td>Fire</td>\n      <td>85</td>\n      <td>60</td>\n      <td>65</td>\n      <td>135</td>\n      <td>105</td>\n      <td>100</td>\n      <td>5</td>\n      <td>False</td>\n    </tr>\n    <tr>\n      <th>231</th>\n      <td>214</td>\n      <td>Heracross</td>\n      <td>Bug</td>\n      <td>Fighting</td>\n      <td>80</td>\n      <td>125</td>\n      <td>75</td>\n      <td>40</td>\n      <td>95</td>\n      <td>85</td>\n      <td>2</td>\n      <td>False</td>\n    </tr>\n    <tr>\n      <th>232</th>\n      <td>214</td>\n      <td>HeracrossMega Heracross</td>\n      <td>Bug</td>\n      <td>Fighting</td>\n      <td>80</td>\n      <td>185</td>\n      <td>115</td>\n      <td>40</td>\n      <td>105</td>\n      <td>75</td>\n      <td>2</td>\n      <td>False</td>\n    </tr>\n    <tr>\n      <th>678</th>\n      <td>617</td>\n      <td>Accelgor</td>\n      <td>Bug</td>\n      <td>NaN</td>\n      <td>80</td>\n      <td>70</td>\n      <td>40</td>\n      <td>100</td>\n      <td>60</td>\n      <td>145</td>\n      <td>5</td>\n      <td>False</td>\n    </tr>\n  </tbody>\n</table>\n</div>"
     },
     "metadata": {},
     "execution_count": 31
    }
   ],
   "source": [
    "#sorting\n",
    "# df.sort_values('Name', ascending=False)\n",
    "df.sort_values(['Type 1', 'HP'], ascending=[1,0])[0:5] #define true false for both (type 1 = assending, hp = decending)"
   ]
  },
  {
   "cell_type": "code",
   "execution_count": 58,
   "metadata": {},
   "outputs": [
    {
     "output_type": "execute_result",
     "data": {
      "text/plain": [
       "       #                   Name   Type 1    Type 2   HP  Attack  Defense  \\\n",
       "426  384  RayquazaMega Rayquaza   Dragon    Flying  105     180      100   \n",
       "164  150    MewtwoMega Mewtwo Y  Psychic       NaN  106     150       70   \n",
       "163  150    MewtwoMega Mewtwo X  Psychic  Fighting  106     190      100   \n",
       "422  382    KyogrePrimal Kyogre    Water       NaN  100     150       90   \n",
       "424  383  GroudonPrimal Groudon   Ground      Fire  100     180      160   \n",
       "\n",
       "     Sp. Atk  Sp. Def  Speed  Generation  Legendary  Total  \n",
       "426      180      100    115           3       True    780  \n",
       "164      194      120    140           1       True    780  \n",
       "163      154      100    130           1       True    780  \n",
       "422      180      160     90           3       True    770  \n",
       "424      150       90     90           3       True    770  "
      ],
      "text/html": "<div>\n<style scoped>\n    .dataframe tbody tr th:only-of-type {\n        vertical-align: middle;\n    }\n\n    .dataframe tbody tr th {\n        vertical-align: top;\n    }\n\n    .dataframe thead th {\n        text-align: right;\n    }\n</style>\n<table border=\"1\" class=\"dataframe\">\n  <thead>\n    <tr style=\"text-align: right;\">\n      <th></th>\n      <th>#</th>\n      <th>Name</th>\n      <th>Type 1</th>\n      <th>Type 2</th>\n      <th>HP</th>\n      <th>Attack</th>\n      <th>Defense</th>\n      <th>Sp. Atk</th>\n      <th>Sp. Def</th>\n      <th>Speed</th>\n      <th>Generation</th>\n      <th>Legendary</th>\n      <th>Total</th>\n    </tr>\n  </thead>\n  <tbody>\n    <tr>\n      <th>426</th>\n      <td>384</td>\n      <td>RayquazaMega Rayquaza</td>\n      <td>Dragon</td>\n      <td>Flying</td>\n      <td>105</td>\n      <td>180</td>\n      <td>100</td>\n      <td>180</td>\n      <td>100</td>\n      <td>115</td>\n      <td>3</td>\n      <td>True</td>\n      <td>780</td>\n    </tr>\n    <tr>\n      <th>164</th>\n      <td>150</td>\n      <td>MewtwoMega Mewtwo Y</td>\n      <td>Psychic</td>\n      <td>NaN</td>\n      <td>106</td>\n      <td>150</td>\n      <td>70</td>\n      <td>194</td>\n      <td>120</td>\n      <td>140</td>\n      <td>1</td>\n      <td>True</td>\n      <td>780</td>\n    </tr>\n    <tr>\n      <th>163</th>\n      <td>150</td>\n      <td>MewtwoMega Mewtwo X</td>\n      <td>Psychic</td>\n      <td>Fighting</td>\n      <td>106</td>\n      <td>190</td>\n      <td>100</td>\n      <td>154</td>\n      <td>100</td>\n      <td>130</td>\n      <td>1</td>\n      <td>True</td>\n      <td>780</td>\n    </tr>\n    <tr>\n      <th>422</th>\n      <td>382</td>\n      <td>KyogrePrimal Kyogre</td>\n      <td>Water</td>\n      <td>NaN</td>\n      <td>100</td>\n      <td>150</td>\n      <td>90</td>\n      <td>180</td>\n      <td>160</td>\n      <td>90</td>\n      <td>3</td>\n      <td>True</td>\n      <td>770</td>\n    </tr>\n    <tr>\n      <th>424</th>\n      <td>383</td>\n      <td>GroudonPrimal Groudon</td>\n      <td>Ground</td>\n      <td>Fire</td>\n      <td>100</td>\n      <td>180</td>\n      <td>160</td>\n      <td>150</td>\n      <td>90</td>\n      <td>90</td>\n      <td>3</td>\n      <td>True</td>\n      <td>770</td>\n    </tr>\n  </tbody>\n</table>\n</div>"
     },
     "metadata": {},
     "execution_count": 58
    }
   ],
   "source": [
    "#changing data frame\n",
    "\n",
    "#adding new column named total\n",
    "# df['Total'] = df['HP'] + df['Attack'] + df['Defense'] + df['Sp. Atk'] + df['Sp. Def'] + df['Speed'] \n",
    "\n",
    "\n",
    "# [:] = all elements or all rows in this case\n",
    "# adding new column using iloc[for what rows you want to add the column to, for which columns you want to sum (.sum (horizontal))] \n",
    "\n",
    "df['Total'] = df.iloc[:, 4:10].sum(axis=1) #axis = 1: Horizontal, axis = 0: vertical\n",
    "#Hiba ye^^ puch lena agar samaj na aye tou\n",
    "\n",
    "# df.head(5)\n",
    "\n",
    "#sort values according to the new column\n",
    "df.sort_values(['Total'], ascending=False)[0:5]"
   ]
  },
  {
   "cell_type": "code",
   "execution_count": 56,
   "metadata": {},
   "outputs": [
    {
     "output_type": "execute_result",
     "data": {
      "text/plain": [
       "   #                   Name Type 1  Type 2  HP  Attack  Defense  Sp. Atk  \\\n",
       "0  1              Bulbasaur  Grass  Poison  45      49       49       65   \n",
       "1  2                Ivysaur  Grass  Poison  60      62       63       80   \n",
       "2  3               Venusaur  Grass  Poison  80      82       83      100   \n",
       "3  3  VenusaurMega Venusaur  Grass  Poison  80     100      123      122   \n",
       "4  4             Charmander   Fire     NaN  39      52       43       60   \n",
       "\n",
       "   Sp. Def  Speed  Generation  Legendary  \n",
       "0       65     45           1      False  \n",
       "1       80     60           1      False  \n",
       "2      100     80           1      False  \n",
       "3      120     80           1      False  \n",
       "4       50     65           1      False  "
      ],
      "text/html": "<div>\n<style scoped>\n    .dataframe tbody tr th:only-of-type {\n        vertical-align: middle;\n    }\n\n    .dataframe tbody tr th {\n        vertical-align: top;\n    }\n\n    .dataframe thead th {\n        text-align: right;\n    }\n</style>\n<table border=\"1\" class=\"dataframe\">\n  <thead>\n    <tr style=\"text-align: right;\">\n      <th></th>\n      <th>#</th>\n      <th>Name</th>\n      <th>Type 1</th>\n      <th>Type 2</th>\n      <th>HP</th>\n      <th>Attack</th>\n      <th>Defense</th>\n      <th>Sp. Atk</th>\n      <th>Sp. Def</th>\n      <th>Speed</th>\n      <th>Generation</th>\n      <th>Legendary</th>\n    </tr>\n  </thead>\n  <tbody>\n    <tr>\n      <th>0</th>\n      <td>1</td>\n      <td>Bulbasaur</td>\n      <td>Grass</td>\n      <td>Poison</td>\n      <td>45</td>\n      <td>49</td>\n      <td>49</td>\n      <td>65</td>\n      <td>65</td>\n      <td>45</td>\n      <td>1</td>\n      <td>False</td>\n    </tr>\n    <tr>\n      <th>1</th>\n      <td>2</td>\n      <td>Ivysaur</td>\n      <td>Grass</td>\n      <td>Poison</td>\n      <td>60</td>\n      <td>62</td>\n      <td>63</td>\n      <td>80</td>\n      <td>80</td>\n      <td>60</td>\n      <td>1</td>\n      <td>False</td>\n    </tr>\n    <tr>\n      <th>2</th>\n      <td>3</td>\n      <td>Venusaur</td>\n      <td>Grass</td>\n      <td>Poison</td>\n      <td>80</td>\n      <td>82</td>\n      <td>83</td>\n      <td>100</td>\n      <td>100</td>\n      <td>80</td>\n      <td>1</td>\n      <td>False</td>\n    </tr>\n    <tr>\n      <th>3</th>\n      <td>3</td>\n      <td>VenusaurMega Venusaur</td>\n      <td>Grass</td>\n      <td>Poison</td>\n      <td>80</td>\n      <td>100</td>\n      <td>123</td>\n      <td>122</td>\n      <td>120</td>\n      <td>80</td>\n      <td>1</td>\n      <td>False</td>\n    </tr>\n    <tr>\n      <th>4</th>\n      <td>4</td>\n      <td>Charmander</td>\n      <td>Fire</td>\n      <td>NaN</td>\n      <td>39</td>\n      <td>52</td>\n      <td>43</td>\n      <td>60</td>\n      <td>50</td>\n      <td>65</td>\n      <td>1</td>\n      <td>False</td>\n    </tr>\n  </tbody>\n</table>\n</div>"
     },
     "metadata": {},
     "execution_count": 56
    }
   ],
   "source": [
    "# removing a column\n",
    "\n",
    "df = df.drop(columns=['Total'])\n",
    "\n",
    "df.head(5)"
   ]
  },
  {
   "cell_type": "code",
   "execution_count": 60,
   "metadata": {},
   "outputs": [
    {
     "output_type": "execute_result",
     "data": {
      "text/plain": [
       "       #                   Name  Total  HP   Type 1  Type 2\n",
       "0      1              Bulbasaur    318  45    Grass  Poison\n",
       "1      2                Ivysaur    405  60    Grass  Poison\n",
       "2      3               Venusaur    525  80    Grass  Poison\n",
       "3      3  VenusaurMega Venusaur    625  80    Grass  Poison\n",
       "4      4             Charmander    309  39     Fire     NaN\n",
       "..   ...                    ...    ...  ..      ...     ...\n",
       "795  719                Diancie    600  50     Rock   Fairy\n",
       "796  719    DiancieMega Diancie    700  50     Rock   Fairy\n",
       "797  720    HoopaHoopa Confined    600  80  Psychic   Ghost\n",
       "798  720     HoopaHoopa Unbound    680  80  Psychic    Dark\n",
       "799  721              Volcanion    600  80     Fire   Water\n",
       "\n",
       "[800 rows x 6 columns]"
      ],
      "text/html": "<div>\n<style scoped>\n    .dataframe tbody tr th:only-of-type {\n        vertical-align: middle;\n    }\n\n    .dataframe tbody tr th {\n        vertical-align: top;\n    }\n\n    .dataframe thead th {\n        text-align: right;\n    }\n</style>\n<table border=\"1\" class=\"dataframe\">\n  <thead>\n    <tr style=\"text-align: right;\">\n      <th></th>\n      <th>#</th>\n      <th>Name</th>\n      <th>Total</th>\n      <th>HP</th>\n      <th>Type 1</th>\n      <th>Type 2</th>\n    </tr>\n  </thead>\n  <tbody>\n    <tr>\n      <th>0</th>\n      <td>1</td>\n      <td>Bulbasaur</td>\n      <td>318</td>\n      <td>45</td>\n      <td>Grass</td>\n      <td>Poison</td>\n    </tr>\n    <tr>\n      <th>1</th>\n      <td>2</td>\n      <td>Ivysaur</td>\n      <td>405</td>\n      <td>60</td>\n      <td>Grass</td>\n      <td>Poison</td>\n    </tr>\n    <tr>\n      <th>2</th>\n      <td>3</td>\n      <td>Venusaur</td>\n      <td>525</td>\n      <td>80</td>\n      <td>Grass</td>\n      <td>Poison</td>\n    </tr>\n    <tr>\n      <th>3</th>\n      <td>3</td>\n      <td>VenusaurMega Venusaur</td>\n      <td>625</td>\n      <td>80</td>\n      <td>Grass</td>\n      <td>Poison</td>\n    </tr>\n    <tr>\n      <th>4</th>\n      <td>4</td>\n      <td>Charmander</td>\n      <td>309</td>\n      <td>39</td>\n      <td>Fire</td>\n      <td>NaN</td>\n    </tr>\n    <tr>\n      <th>...</th>\n      <td>...</td>\n      <td>...</td>\n      <td>...</td>\n      <td>...</td>\n      <td>...</td>\n      <td>...</td>\n    </tr>\n    <tr>\n      <th>795</th>\n      <td>719</td>\n      <td>Diancie</td>\n      <td>600</td>\n      <td>50</td>\n      <td>Rock</td>\n      <td>Fairy</td>\n    </tr>\n    <tr>\n      <th>796</th>\n      <td>719</td>\n      <td>DiancieMega Diancie</td>\n      <td>700</td>\n      <td>50</td>\n      <td>Rock</td>\n      <td>Fairy</td>\n    </tr>\n    <tr>\n      <th>797</th>\n      <td>720</td>\n      <td>HoopaHoopa Confined</td>\n      <td>600</td>\n      <td>80</td>\n      <td>Psychic</td>\n      <td>Ghost</td>\n    </tr>\n    <tr>\n      <th>798</th>\n      <td>720</td>\n      <td>HoopaHoopa Unbound</td>\n      <td>680</td>\n      <td>80</td>\n      <td>Psychic</td>\n      <td>Dark</td>\n    </tr>\n    <tr>\n      <th>799</th>\n      <td>721</td>\n      <td>Volcanion</td>\n      <td>600</td>\n      <td>80</td>\n      <td>Fire</td>\n      <td>Water</td>\n    </tr>\n  </tbody>\n</table>\n<p>800 rows × 6 columns</p>\n</div>"
     },
     "metadata": {},
     "execution_count": 60
    }
   ],
   "source": [
    "# Rearranging Columns\n",
    "# df = krna zaroori hy because wapis save krna parta hy dataframe main\n",
    "df = df[['#', 'Name', 'Total', 'HP', 'Type 1', 'Type 2']] #very annyoying method but easy to understand\n",
    "df"
   ]
  },
  {
   "cell_type": "code",
   "execution_count": null,
   "metadata": {},
   "outputs": [],
   "source": []
  }
 ]
}