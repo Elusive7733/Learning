{
 "metadata": {
  "language_info": {
   "codemirror_mode": {
    "name": "ipython",
    "version": 3
   },
   "file_extension": ".py",
   "mimetype": "text/x-python",
   "name": "python",
   "nbconvert_exporter": "python",
   "pygments_lexer": "ipython3",
   "version": "3.9.1-final"
  },
  "orig_nbformat": 2,
  "kernelspec": {
   "name": "python3",
   "display_name": "Python 3.9.1 64-bit",
   "metadata": {
    "interpreter": {
     "hash": "63fd5069d213b44bf678585dea6b12cceca9941eaf7f819626cde1f2670de90d"
    }
   }
  }
 },
 "nbformat": 4,
 "nbformat_minor": 2,
 "cells": [
  {
   "cell_type": "code",
   "execution_count": 167,
   "metadata": {},
   "outputs": [],
   "source": [
    "#pip install pandas\n",
    "#read all the comments\n",
    "import pandas as pd\n",
    "\n",
    "df = pd.read_csv('pokemon_data.csv')\n",
    "# print(df.head(3))\n",
    "\n",
    "df_xlsx = pd.read_excel('pokemon_data.xlsx')\n",
    "# print(df_xlsx.head(3))\n",
    "\n",
    "#reading txt file using read_csv\n",
    "df_txt = pd.read_csv('pokemon_data.txt', delimiter='\\t')\n",
    "# print(df_txt.head(5))\n"
   ]
  },
  {
   "cell_type": "code",
   "execution_count": 3,
   "metadata": {},
   "outputs": [
    {
     "output_type": "execute_result",
     "data": {
      "text/plain": [
       "Index(['#', 'Name', 'Type 1', 'Type 2', 'HP', 'Attack', 'Defense', 'Sp. Atk',\n",
       "       'Sp. Def', 'Speed', 'Generation', 'Legendary'],\n",
       "      dtype='object')"
      ]
     },
     "metadata": {},
     "execution_count": 3
    }
   ],
   "source": [
    "#Headers\n",
    "df.columns"
   ]
  },
  {
   "cell_type": "code",
   "execution_count": 135,
   "metadata": {},
   "outputs": [
    {
     "output_type": "execute_result",
     "data": {
      "text/plain": [
       "0                  Bulbasaur\n",
       "1                    Ivysaur\n",
       "2                   Venusaur\n",
       "3      VenusaurMega Venusaur\n",
       "4                 Charmander\n",
       "               ...          \n",
       "795                  Diancie\n",
       "796      DiancieMega Diancie\n",
       "797      HoopaHoopa Confined\n",
       "798       HoopaHoopa Unbound\n",
       "799                Volcanion\n",
       "Name: Name, Length: 800, dtype: object"
      ]
     },
     "metadata": {},
     "execution_count": 135
    }
   ],
   "source": [
    "#Read single column (last 5)\n",
    "df['Name'][-5:]"
   ]
  },
  {
   "cell_type": "code",
   "execution_count": 5,
   "metadata": {},
   "outputs": [
    {
     "output_type": "execute_result",
     "data": {
      "text/plain": [
       "                    Name  HP\n",
       "0              Bulbasaur  45\n",
       "1                Ivysaur  60\n",
       "2               Venusaur  80\n",
       "3  VenusaurMega Venusaur  80\n",
       "4             Charmander  39"
      ],
      "text/html": "<div>\n<style scoped>\n    .dataframe tbody tr th:only-of-type {\n        vertical-align: middle;\n    }\n\n    .dataframe tbody tr th {\n        vertical-align: top;\n    }\n\n    .dataframe thead th {\n        text-align: right;\n    }\n</style>\n<table border=\"1\" class=\"dataframe\">\n  <thead>\n    <tr style=\"text-align: right;\">\n      <th></th>\n      <th>Name</th>\n      <th>HP</th>\n    </tr>\n  </thead>\n  <tbody>\n    <tr>\n      <th>0</th>\n      <td>Bulbasaur</td>\n      <td>45</td>\n    </tr>\n    <tr>\n      <th>1</th>\n      <td>Ivysaur</td>\n      <td>60</td>\n    </tr>\n    <tr>\n      <th>2</th>\n      <td>Venusaur</td>\n      <td>80</td>\n    </tr>\n    <tr>\n      <th>3</th>\n      <td>VenusaurMega Venusaur</td>\n      <td>80</td>\n    </tr>\n    <tr>\n      <th>4</th>\n      <td>Charmander</td>\n      <td>39</td>\n    </tr>\n  </tbody>\n</table>\n</div>"
     },
     "metadata": {},
     "execution_count": 5
    }
   ],
   "source": [
    "#Read multiple columns\n",
    "df[['Name', 'HP']][0:5]"
   ]
  },
  {
   "cell_type": "code",
   "execution_count": 6,
   "metadata": {},
   "outputs": [
    {
     "output_type": "execute_result",
     "data": {
      "text/plain": [
       "#                   2\n",
       "Name          Ivysaur\n",
       "Type 1          Grass\n",
       "Type 2         Poison\n",
       "HP                 60\n",
       "Attack             62\n",
       "Defense            63\n",
       "Sp. Atk            80\n",
       "Sp. Def            80\n",
       "Speed              60\n",
       "Generation          1\n",
       "Legendary       False\n",
       "Name: 1, dtype: object"
      ]
     },
     "metadata": {},
     "execution_count": 6
    }
   ],
   "source": [
    "#Read single row\n",
    "df.iloc[1]"
   ]
  },
  {
   "cell_type": "code",
   "execution_count": 7,
   "metadata": {},
   "outputs": [
    {
     "output_type": "execute_result",
     "data": {
      "text/plain": [
       "   #                       Name Type 1  Type 2  HP  Attack  Defense  Sp. Atk  \\\n",
       "1  2                    Ivysaur  Grass  Poison  60      62       63       80   \n",
       "2  3                   Venusaur  Grass  Poison  80      82       83      100   \n",
       "3  3      VenusaurMega Venusaur  Grass  Poison  80     100      123      122   \n",
       "4  4                 Charmander   Fire     NaN  39      52       43       60   \n",
       "5  5                 Charmeleon   Fire     NaN  58      64       58       80   \n",
       "6  6                  Charizard   Fire  Flying  78      84       78      109   \n",
       "7  6  CharizardMega Charizard X   Fire  Dragon  78     130      111      130   \n",
       "\n",
       "   Sp. Def  Speed  Generation  Legendary  \n",
       "1       80     60           1      False  \n",
       "2      100     80           1      False  \n",
       "3      120     80           1      False  \n",
       "4       50     65           1      False  \n",
       "5       65     80           1      False  \n",
       "6       85    100           1      False  \n",
       "7       85    100           1      False  "
      ],
      "text/html": "<div>\n<style scoped>\n    .dataframe tbody tr th:only-of-type {\n        vertical-align: middle;\n    }\n\n    .dataframe tbody tr th {\n        vertical-align: top;\n    }\n\n    .dataframe thead th {\n        text-align: right;\n    }\n</style>\n<table border=\"1\" class=\"dataframe\">\n  <thead>\n    <tr style=\"text-align: right;\">\n      <th></th>\n      <th>#</th>\n      <th>Name</th>\n      <th>Type 1</th>\n      <th>Type 2</th>\n      <th>HP</th>\n      <th>Attack</th>\n      <th>Defense</th>\n      <th>Sp. Atk</th>\n      <th>Sp. Def</th>\n      <th>Speed</th>\n      <th>Generation</th>\n      <th>Legendary</th>\n    </tr>\n  </thead>\n  <tbody>\n    <tr>\n      <th>1</th>\n      <td>2</td>\n      <td>Ivysaur</td>\n      <td>Grass</td>\n      <td>Poison</td>\n      <td>60</td>\n      <td>62</td>\n      <td>63</td>\n      <td>80</td>\n      <td>80</td>\n      <td>60</td>\n      <td>1</td>\n      <td>False</td>\n    </tr>\n    <tr>\n      <th>2</th>\n      <td>3</td>\n      <td>Venusaur</td>\n      <td>Grass</td>\n      <td>Poison</td>\n      <td>80</td>\n      <td>82</td>\n      <td>83</td>\n      <td>100</td>\n      <td>100</td>\n      <td>80</td>\n      <td>1</td>\n      <td>False</td>\n    </tr>\n    <tr>\n      <th>3</th>\n      <td>3</td>\n      <td>VenusaurMega Venusaur</td>\n      <td>Grass</td>\n      <td>Poison</td>\n      <td>80</td>\n      <td>100</td>\n      <td>123</td>\n      <td>122</td>\n      <td>120</td>\n      <td>80</td>\n      <td>1</td>\n      <td>False</td>\n    </tr>\n    <tr>\n      <th>4</th>\n      <td>4</td>\n      <td>Charmander</td>\n      <td>Fire</td>\n      <td>NaN</td>\n      <td>39</td>\n      <td>52</td>\n      <td>43</td>\n      <td>60</td>\n      <td>50</td>\n      <td>65</td>\n      <td>1</td>\n      <td>False</td>\n    </tr>\n    <tr>\n      <th>5</th>\n      <td>5</td>\n      <td>Charmeleon</td>\n      <td>Fire</td>\n      <td>NaN</td>\n      <td>58</td>\n      <td>64</td>\n      <td>58</td>\n      <td>80</td>\n      <td>65</td>\n      <td>80</td>\n      <td>1</td>\n      <td>False</td>\n    </tr>\n    <tr>\n      <th>6</th>\n      <td>6</td>\n      <td>Charizard</td>\n      <td>Fire</td>\n      <td>Flying</td>\n      <td>78</td>\n      <td>84</td>\n      <td>78</td>\n      <td>109</td>\n      <td>85</td>\n      <td>100</td>\n      <td>1</td>\n      <td>False</td>\n    </tr>\n    <tr>\n      <th>7</th>\n      <td>6</td>\n      <td>CharizardMega Charizard X</td>\n      <td>Fire</td>\n      <td>Dragon</td>\n      <td>78</td>\n      <td>130</td>\n      <td>111</td>\n      <td>130</td>\n      <td>85</td>\n      <td>100</td>\n      <td>1</td>\n      <td>False</td>\n    </tr>\n  </tbody>\n</table>\n</div>"
     },
     "metadata": {},
     "execution_count": 7
    }
   ],
   "source": [
    "#Read multiple rows\n",
    "df.iloc[1:8]"
   ]
  },
  {
   "cell_type": "code",
   "execution_count": 8,
   "metadata": {},
   "outputs": [
    {
     "output_type": "execute_result",
     "data": {
      "text/plain": [
       "'VenusaurMega Venusaur'"
      ]
     },
     "metadata": {},
     "execution_count": 8
    }
   ],
   "source": [
    "#Read specific location [row , column]\n",
    "df.iloc[3,1]"
   ]
  },
  {
   "cell_type": "code",
   "execution_count": 22,
   "metadata": {},
   "outputs": [
    {
     "output_type": "execute_result",
     "data": {
      "text/plain": [
       "   #                   Name Type 1  Type 2\n",
       "0  1              Bulbasaur  Grass  Poison\n",
       "1  2                Ivysaur  Grass  Poison\n",
       "2  3               Venusaur  Grass  Poison\n",
       "3  3  VenusaurMega Venusaur  Grass  Poison\n",
       "4  4             Charmander   Fire     NaN"
      ],
      "text/html": "<div>\n<style scoped>\n    .dataframe tbody tr th:only-of-type {\n        vertical-align: middle;\n    }\n\n    .dataframe tbody tr th {\n        vertical-align: top;\n    }\n\n    .dataframe thead th {\n        text-align: right;\n    }\n</style>\n<table border=\"1\" class=\"dataframe\">\n  <thead>\n    <tr style=\"text-align: right;\">\n      <th></th>\n      <th>#</th>\n      <th>Name</th>\n      <th>Type 1</th>\n      <th>Type 2</th>\n    </tr>\n  </thead>\n  <tbody>\n    <tr>\n      <th>0</th>\n      <td>1</td>\n      <td>Bulbasaur</td>\n      <td>Grass</td>\n      <td>Poison</td>\n    </tr>\n    <tr>\n      <th>1</th>\n      <td>2</td>\n      <td>Ivysaur</td>\n      <td>Grass</td>\n      <td>Poison</td>\n    </tr>\n    <tr>\n      <th>2</th>\n      <td>3</td>\n      <td>Venusaur</td>\n      <td>Grass</td>\n      <td>Poison</td>\n    </tr>\n    <tr>\n      <th>3</th>\n      <td>3</td>\n      <td>VenusaurMega Venusaur</td>\n      <td>Grass</td>\n      <td>Poison</td>\n    </tr>\n    <tr>\n      <th>4</th>\n      <td>4</td>\n      <td>Charmander</td>\n      <td>Fire</td>\n      <td>NaN</td>\n    </tr>\n  </tbody>\n</table>\n</div>"
     },
     "metadata": {},
     "execution_count": 22
    }
   ],
   "source": [
    "#Read specific rows and columns \n",
    "df[['Name', 'Type 1', 'Type 2']].iloc[0:5]\n",
    "# df.iloc[0:5,0:4]"
   ]
  },
  {
   "cell_type": "code",
   "execution_count": 25,
   "metadata": {},
   "outputs": [],
   "source": [
    "# Itterate over rows (useful for data manipulation)\n",
    "for index, row in df.iterrows():\n",
    "    print(index, row['Name'])\n",
    "\n",
    "# df['Name'].iloc[:]"
   ]
  },
  {
   "cell_type": "code",
   "execution_count": 24,
   "metadata": {},
   "outputs": [
    {
     "output_type": "execute_result",
     "data": {
      "text/plain": [
       "       #         Name Type 1  Type 2  HP  Attack  Defense  Sp. Atk  Sp. Def  \\\n",
       "730  662  Fletchinder   Fire  Flying  62      73       55       56       52   \n",
       "731  663   Talonflame   Fire  Flying  78      81       71       74       69   \n",
       "735  667       Litleo   Fire  Normal  62      50       58       73       54   \n",
       "736  668       Pyroar   Fire  Normal  86      68       72      109       66   \n",
       "799  721    Volcanion   Fire   Water  80     110      120      130       90   \n",
       "\n",
       "     Speed  Generation  Legendary  \n",
       "730     84           6      False  \n",
       "731    126           6      False  \n",
       "735     72           6      False  \n",
       "736    106           6      False  \n",
       "799     70           6       True  "
      ],
      "text/html": "<div>\n<style scoped>\n    .dataframe tbody tr th:only-of-type {\n        vertical-align: middle;\n    }\n\n    .dataframe tbody tr th {\n        vertical-align: top;\n    }\n\n    .dataframe thead th {\n        text-align: right;\n    }\n</style>\n<table border=\"1\" class=\"dataframe\">\n  <thead>\n    <tr style=\"text-align: right;\">\n      <th></th>\n      <th>#</th>\n      <th>Name</th>\n      <th>Type 1</th>\n      <th>Type 2</th>\n      <th>HP</th>\n      <th>Attack</th>\n      <th>Defense</th>\n      <th>Sp. Atk</th>\n      <th>Sp. Def</th>\n      <th>Speed</th>\n      <th>Generation</th>\n      <th>Legendary</th>\n    </tr>\n  </thead>\n  <tbody>\n    <tr>\n      <th>730</th>\n      <td>662</td>\n      <td>Fletchinder</td>\n      <td>Fire</td>\n      <td>Flying</td>\n      <td>62</td>\n      <td>73</td>\n      <td>55</td>\n      <td>56</td>\n      <td>52</td>\n      <td>84</td>\n      <td>6</td>\n      <td>False</td>\n    </tr>\n    <tr>\n      <th>731</th>\n      <td>663</td>\n      <td>Talonflame</td>\n      <td>Fire</td>\n      <td>Flying</td>\n      <td>78</td>\n      <td>81</td>\n      <td>71</td>\n      <td>74</td>\n      <td>69</td>\n      <td>126</td>\n      <td>6</td>\n      <td>False</td>\n    </tr>\n    <tr>\n      <th>735</th>\n      <td>667</td>\n      <td>Litleo</td>\n      <td>Fire</td>\n      <td>Normal</td>\n      <td>62</td>\n      <td>50</td>\n      <td>58</td>\n      <td>73</td>\n      <td>54</td>\n      <td>72</td>\n      <td>6</td>\n      <td>False</td>\n    </tr>\n    <tr>\n      <th>736</th>\n      <td>668</td>\n      <td>Pyroar</td>\n      <td>Fire</td>\n      <td>Normal</td>\n      <td>86</td>\n      <td>68</td>\n      <td>72</td>\n      <td>109</td>\n      <td>66</td>\n      <td>106</td>\n      <td>6</td>\n      <td>False</td>\n    </tr>\n    <tr>\n      <th>799</th>\n      <td>721</td>\n      <td>Volcanion</td>\n      <td>Fire</td>\n      <td>Water</td>\n      <td>80</td>\n      <td>110</td>\n      <td>120</td>\n      <td>130</td>\n      <td>90</td>\n      <td>70</td>\n      <td>6</td>\n      <td>True</td>\n    </tr>\n  </tbody>\n</table>\n</div>"
     },
     "metadata": {},
     "execution_count": 24
    }
   ],
   "source": [
    "# Conditional Statements 1 / Basic Filtering\n",
    "\n",
    "# The main difference Between iloc and loc is..........: \n",
    "# loc is Label based\n",
    "# iloc is Index based\n",
    "\n",
    "df.loc[df['Type 1'] == \"Fire\"][-5:]"
   ]
  },
  {
   "cell_type": "code",
   "execution_count": 27,
   "metadata": {},
   "outputs": [],
   "source": [
    "# Find important mathematical information about the data like mean, variance ect\n",
    "df.describe()"
   ]
  },
  {
   "cell_type": "code",
   "execution_count": 31,
   "metadata": {},
   "outputs": [
    {
     "output_type": "execute_result",
     "data": {
      "text/plain": [
       "       #                     Name Type 1    Type 2  HP  Attack  Defense  \\\n",
       "520  469                  Yanmega    Bug    Flying  86      76       86   \n",
       "698  637                Volcarona    Bug      Fire  85      60       65   \n",
       "231  214                Heracross    Bug  Fighting  80     125       75   \n",
       "232  214  HeracrossMega Heracross    Bug  Fighting  80     185      115   \n",
       "678  617                 Accelgor    Bug       NaN  80      70       40   \n",
       "\n",
       "     Sp. Atk  Sp. Def  Speed  Generation  Legendary  \n",
       "520      116       56     95           4      False  \n",
       "698      135      105    100           5      False  \n",
       "231       40       95     85           2      False  \n",
       "232       40      105     75           2      False  \n",
       "678      100       60    145           5      False  "
      ],
      "text/html": "<div>\n<style scoped>\n    .dataframe tbody tr th:only-of-type {\n        vertical-align: middle;\n    }\n\n    .dataframe tbody tr th {\n        vertical-align: top;\n    }\n\n    .dataframe thead th {\n        text-align: right;\n    }\n</style>\n<table border=\"1\" class=\"dataframe\">\n  <thead>\n    <tr style=\"text-align: right;\">\n      <th></th>\n      <th>#</th>\n      <th>Name</th>\n      <th>Type 1</th>\n      <th>Type 2</th>\n      <th>HP</th>\n      <th>Attack</th>\n      <th>Defense</th>\n      <th>Sp. Atk</th>\n      <th>Sp. Def</th>\n      <th>Speed</th>\n      <th>Generation</th>\n      <th>Legendary</th>\n    </tr>\n  </thead>\n  <tbody>\n    <tr>\n      <th>520</th>\n      <td>469</td>\n      <td>Yanmega</td>\n      <td>Bug</td>\n      <td>Flying</td>\n      <td>86</td>\n      <td>76</td>\n      <td>86</td>\n      <td>116</td>\n      <td>56</td>\n      <td>95</td>\n      <td>4</td>\n      <td>False</td>\n    </tr>\n    <tr>\n      <th>698</th>\n      <td>637</td>\n      <td>Volcarona</td>\n      <td>Bug</td>\n      <td>Fire</td>\n      <td>85</td>\n      <td>60</td>\n      <td>65</td>\n      <td>135</td>\n      <td>105</td>\n      <td>100</td>\n      <td>5</td>\n      <td>False</td>\n    </tr>\n    <tr>\n      <th>231</th>\n      <td>214</td>\n      <td>Heracross</td>\n      <td>Bug</td>\n      <td>Fighting</td>\n      <td>80</td>\n      <td>125</td>\n      <td>75</td>\n      <td>40</td>\n      <td>95</td>\n      <td>85</td>\n      <td>2</td>\n      <td>False</td>\n    </tr>\n    <tr>\n      <th>232</th>\n      <td>214</td>\n      <td>HeracrossMega Heracross</td>\n      <td>Bug</td>\n      <td>Fighting</td>\n      <td>80</td>\n      <td>185</td>\n      <td>115</td>\n      <td>40</td>\n      <td>105</td>\n      <td>75</td>\n      <td>2</td>\n      <td>False</td>\n    </tr>\n    <tr>\n      <th>678</th>\n      <td>617</td>\n      <td>Accelgor</td>\n      <td>Bug</td>\n      <td>NaN</td>\n      <td>80</td>\n      <td>70</td>\n      <td>40</td>\n      <td>100</td>\n      <td>60</td>\n      <td>145</td>\n      <td>5</td>\n      <td>False</td>\n    </tr>\n  </tbody>\n</table>\n</div>"
     },
     "metadata": {},
     "execution_count": 31
    }
   ],
   "source": [
    "# Sorting\n",
    "# df.sort_values('Name', ascending=False)\n",
    "df.sort_values(['Type 1', 'HP'], ascending=[1,0])[0:5] #define true false for both (type 1 = assending, hp = decending)"
   ]
  },
  {
   "cell_type": "code",
   "execution_count": 176,
   "metadata": {},
   "outputs": [
    {
     "output_type": "execute_result",
     "data": {
      "text/plain": [
       "       #                   Name   Type 1    Type 2   HP  Attack  Defense  \\\n",
       "426  384  RayquazaMega Rayquaza   Dragon    Flying  105     180      100   \n",
       "164  150    MewtwoMega Mewtwo Y  Psychic       NaN  106     150       70   \n",
       "163  150    MewtwoMega Mewtwo X  Psychic  Fighting  106     190      100   \n",
       "422  382    KyogrePrimal Kyogre    Water       NaN  100     150       90   \n",
       "424  383  GroudonPrimal Groudon   Ground      Fire  100     180      160   \n",
       "\n",
       "     Sp. Atk  Sp. Def  Speed  Generation  Legendary  Total  \n",
       "426      180      100    115           3       True    780  \n",
       "164      194      120    140           1       True    780  \n",
       "163      154      100    130           1       True    780  \n",
       "422      180      160     90           3       True    770  \n",
       "424      150       90     90           3       True    770  "
      ],
      "text/html": "<div>\n<style scoped>\n    .dataframe tbody tr th:only-of-type {\n        vertical-align: middle;\n    }\n\n    .dataframe tbody tr th {\n        vertical-align: top;\n    }\n\n    .dataframe thead th {\n        text-align: right;\n    }\n</style>\n<table border=\"1\" class=\"dataframe\">\n  <thead>\n    <tr style=\"text-align: right;\">\n      <th></th>\n      <th>#</th>\n      <th>Name</th>\n      <th>Type 1</th>\n      <th>Type 2</th>\n      <th>HP</th>\n      <th>Attack</th>\n      <th>Defense</th>\n      <th>Sp. Atk</th>\n      <th>Sp. Def</th>\n      <th>Speed</th>\n      <th>Generation</th>\n      <th>Legendary</th>\n      <th>Total</th>\n    </tr>\n  </thead>\n  <tbody>\n    <tr>\n      <th>426</th>\n      <td>384</td>\n      <td>RayquazaMega Rayquaza</td>\n      <td>Dragon</td>\n      <td>Flying</td>\n      <td>105</td>\n      <td>180</td>\n      <td>100</td>\n      <td>180</td>\n      <td>100</td>\n      <td>115</td>\n      <td>3</td>\n      <td>True</td>\n      <td>780</td>\n    </tr>\n    <tr>\n      <th>164</th>\n      <td>150</td>\n      <td>MewtwoMega Mewtwo Y</td>\n      <td>Psychic</td>\n      <td>NaN</td>\n      <td>106</td>\n      <td>150</td>\n      <td>70</td>\n      <td>194</td>\n      <td>120</td>\n      <td>140</td>\n      <td>1</td>\n      <td>True</td>\n      <td>780</td>\n    </tr>\n    <tr>\n      <th>163</th>\n      <td>150</td>\n      <td>MewtwoMega Mewtwo X</td>\n      <td>Psychic</td>\n      <td>Fighting</td>\n      <td>106</td>\n      <td>190</td>\n      <td>100</td>\n      <td>154</td>\n      <td>100</td>\n      <td>130</td>\n      <td>1</td>\n      <td>True</td>\n      <td>780</td>\n    </tr>\n    <tr>\n      <th>422</th>\n      <td>382</td>\n      <td>KyogrePrimal Kyogre</td>\n      <td>Water</td>\n      <td>NaN</td>\n      <td>100</td>\n      <td>150</td>\n      <td>90</td>\n      <td>180</td>\n      <td>160</td>\n      <td>90</td>\n      <td>3</td>\n      <td>True</td>\n      <td>770</td>\n    </tr>\n    <tr>\n      <th>424</th>\n      <td>383</td>\n      <td>GroudonPrimal Groudon</td>\n      <td>Ground</td>\n      <td>Fire</td>\n      <td>100</td>\n      <td>180</td>\n      <td>160</td>\n      <td>150</td>\n      <td>90</td>\n      <td>90</td>\n      <td>3</td>\n      <td>True</td>\n      <td>770</td>\n    </tr>\n  </tbody>\n</table>\n</div>"
     },
     "metadata": {},
     "execution_count": 176
    }
   ],
   "source": [
    "# Changing DataFrame 1\n",
    "\n",
    "#adding new column named total\n",
    "# df['Total'] = df['HP'] + df['Attack'] + df['Defense'] + df['Sp. Atk'] + df['Sp. Def'] + df['Speed'] \n",
    "\n",
    "\n",
    "# [:] = all elements or all rows in this case\n",
    "# adding new column using iloc[for what rows you want to add the column to, for which columns you want to sum (.sum (horizontal))] \n",
    "\n",
    "df['Total'] = df.iloc[:, 4:10].sum(axis=1) #axis = 1: Horizontal, axis = 0: vertical\n",
    "#Hiba ye^^ puch lena agar samaj na aye tou\n",
    "\n",
    "# df.head(5)\n",
    "\n",
    "#sort values according to the new column\n",
    "df.sort_values(['Total'], ascending=False)[0:5]"
   ]
  },
  {
   "cell_type": "code",
   "execution_count": 73,
   "metadata": {},
   "outputs": [],
   "source": [
    "# Removing a Column\n",
    "\n",
    "df = df.drop(columns=['Total'])\n",
    "\n",
    "df.head(5)"
   ]
  },
  {
   "cell_type": "code",
   "execution_count": 177,
   "metadata": {},
   "outputs": [
    {
     "output_type": "execute_result",
     "data": {
      "text/plain": [
       "   #                   Name Type 1  Type 2  Total  HP  Attack  Defense  \\\n",
       "0  1              Bulbasaur  Grass  Poison    318  45      49       49   \n",
       "1  2                Ivysaur  Grass  Poison    405  60      62       63   \n",
       "2  3               Venusaur  Grass  Poison    525  80      82       83   \n",
       "3  3  VenusaurMega Venusaur  Grass  Poison    625  80     100      123   \n",
       "4  4             Charmander   Fire     NaN    309  39      52       43   \n",
       "\n",
       "   Sp. Atk  Sp. Def  Speed  Generation  Legendary  \n",
       "0       65       65     45           1      False  \n",
       "1       80       80     60           1      False  \n",
       "2      100      100     80           1      False  \n",
       "3      122      120     80           1      False  \n",
       "4       60       50     65           1      False  "
      ],
      "text/html": "<div>\n<style scoped>\n    .dataframe tbody tr th:only-of-type {\n        vertical-align: middle;\n    }\n\n    .dataframe tbody tr th {\n        vertical-align: top;\n    }\n\n    .dataframe thead th {\n        text-align: right;\n    }\n</style>\n<table border=\"1\" class=\"dataframe\">\n  <thead>\n    <tr style=\"text-align: right;\">\n      <th></th>\n      <th>#</th>\n      <th>Name</th>\n      <th>Type 1</th>\n      <th>Type 2</th>\n      <th>Total</th>\n      <th>HP</th>\n      <th>Attack</th>\n      <th>Defense</th>\n      <th>Sp. Atk</th>\n      <th>Sp. Def</th>\n      <th>Speed</th>\n      <th>Generation</th>\n      <th>Legendary</th>\n    </tr>\n  </thead>\n  <tbody>\n    <tr>\n      <th>0</th>\n      <td>1</td>\n      <td>Bulbasaur</td>\n      <td>Grass</td>\n      <td>Poison</td>\n      <td>318</td>\n      <td>45</td>\n      <td>49</td>\n      <td>49</td>\n      <td>65</td>\n      <td>65</td>\n      <td>45</td>\n      <td>1</td>\n      <td>False</td>\n    </tr>\n    <tr>\n      <th>1</th>\n      <td>2</td>\n      <td>Ivysaur</td>\n      <td>Grass</td>\n      <td>Poison</td>\n      <td>405</td>\n      <td>60</td>\n      <td>62</td>\n      <td>63</td>\n      <td>80</td>\n      <td>80</td>\n      <td>60</td>\n      <td>1</td>\n      <td>False</td>\n    </tr>\n    <tr>\n      <th>2</th>\n      <td>3</td>\n      <td>Venusaur</td>\n      <td>Grass</td>\n      <td>Poison</td>\n      <td>525</td>\n      <td>80</td>\n      <td>82</td>\n      <td>83</td>\n      <td>100</td>\n      <td>100</td>\n      <td>80</td>\n      <td>1</td>\n      <td>False</td>\n    </tr>\n    <tr>\n      <th>3</th>\n      <td>3</td>\n      <td>VenusaurMega Venusaur</td>\n      <td>Grass</td>\n      <td>Poison</td>\n      <td>625</td>\n      <td>80</td>\n      <td>100</td>\n      <td>123</td>\n      <td>122</td>\n      <td>120</td>\n      <td>80</td>\n      <td>1</td>\n      <td>False</td>\n    </tr>\n    <tr>\n      <th>4</th>\n      <td>4</td>\n      <td>Charmander</td>\n      <td>Fire</td>\n      <td>NaN</td>\n      <td>309</td>\n      <td>39</td>\n      <td>52</td>\n      <td>43</td>\n      <td>60</td>\n      <td>50</td>\n      <td>65</td>\n      <td>1</td>\n      <td>False</td>\n    </tr>\n  </tbody>\n</table>\n</div>"
     },
     "metadata": {},
     "execution_count": 177
    }
   ],
   "source": [
    "# Rearranging Columns\n",
    "# df = krna zaroori hy because wapis save krna parta hy dataframe main\n",
    "# df = df[['#', 'Name', 'Total', 'HP', 'Type 1', 'Type 2']] #very annyoying method but easy to understand\n",
    "\n",
    "# get columns as a list\n",
    "cols = list(df.columns.values)\n",
    "cols #isko print krke dekh lena\n",
    "\n",
    "#first 4 columns then the last columns then the other columns\n",
    "df = df[cols[0:4] + cols[-1:] + cols[4:12]]\n",
    "\n",
    "df.head(5)\n"
   ]
  },
  {
   "cell_type": "code",
   "execution_count": 178,
   "metadata": {},
   "outputs": [],
   "source": [
    "# Save The DataFrame a new file \n",
    "df.to_csv('modified_pokemon.csv', index=False) #stop index from repeating \n",
    "df.to_excel('modified_pokemon.xlsx', index=False) \n",
    "df.to_csv('modified_pokemon.txt', index=False, sep='\\t') #add sperator so when reading .txt we can use delimiter to identify columns"
   ]
  },
  {
   "cell_type": "code",
   "execution_count": 127,
   "metadata": {},
   "outputs": [
    {
     "output_type": "execute_result",
     "data": {
      "text/plain": [
       "       #                 Name   Type 1  Type 2  Total   HP  Attack  Defense  \\\n",
       "0      1            Bulbasaur    Grass  Poison    318   45      49       49   \n",
       "1      2              Ivysaur    Grass  Poison    405   60      62       63   \n",
       "2      3             Venusaur    Grass  Poison    525   80      82       83   \n",
       "4      4           Charmander     Fire     NaN    309   39      52       43   \n",
       "5      5           Charmeleon     Fire     NaN    405   58      64       58   \n",
       "..   ...                  ...      ...     ...    ...  ...     ...      ...   \n",
       "794  718     Zygarde50% Forme   Dragon  Ground    600  108     100      121   \n",
       "795  719              Diancie     Rock   Fairy    600   50     100      150   \n",
       "797  720  HoopaHoopa Confined  Psychic   Ghost    600   80     110       60   \n",
       "798  720   HoopaHoopa Unbound  Psychic    Dark    680   80     160       60   \n",
       "799  721            Volcanion     Fire   Water    600   80     110      120   \n",
       "\n",
       "     Sp. Atk  Sp. Def  Speed  Generation  Legendary  \n",
       "0         65       65     45           1      False  \n",
       "1         80       80     60           1      False  \n",
       "2        100      100     80           1      False  \n",
       "4         60       50     65           1      False  \n",
       "5         80       65     80           1      False  \n",
       "..       ...      ...    ...         ...        ...  \n",
       "794       81       95     95           6       True  \n",
       "795      100      150     50           6       True  \n",
       "797      150      130     70           6       True  \n",
       "798      170      130     80           6       True  \n",
       "799      130       90     70           6       True  \n",
       "\n",
       "[751 rows x 13 columns]"
      ],
      "text/html": "<div>\n<style scoped>\n    .dataframe tbody tr th:only-of-type {\n        vertical-align: middle;\n    }\n\n    .dataframe tbody tr th {\n        vertical-align: top;\n    }\n\n    .dataframe thead th {\n        text-align: right;\n    }\n</style>\n<table border=\"1\" class=\"dataframe\">\n  <thead>\n    <tr style=\"text-align: right;\">\n      <th></th>\n      <th>#</th>\n      <th>Name</th>\n      <th>Type 1</th>\n      <th>Type 2</th>\n      <th>Total</th>\n      <th>HP</th>\n      <th>Attack</th>\n      <th>Defense</th>\n      <th>Sp. Atk</th>\n      <th>Sp. Def</th>\n      <th>Speed</th>\n      <th>Generation</th>\n      <th>Legendary</th>\n    </tr>\n  </thead>\n  <tbody>\n    <tr>\n      <th>0</th>\n      <td>1</td>\n      <td>Bulbasaur</td>\n      <td>Grass</td>\n      <td>Poison</td>\n      <td>318</td>\n      <td>45</td>\n      <td>49</td>\n      <td>49</td>\n      <td>65</td>\n      <td>65</td>\n      <td>45</td>\n      <td>1</td>\n      <td>False</td>\n    </tr>\n    <tr>\n      <th>1</th>\n      <td>2</td>\n      <td>Ivysaur</td>\n      <td>Grass</td>\n      <td>Poison</td>\n      <td>405</td>\n      <td>60</td>\n      <td>62</td>\n      <td>63</td>\n      <td>80</td>\n      <td>80</td>\n      <td>60</td>\n      <td>1</td>\n      <td>False</td>\n    </tr>\n    <tr>\n      <th>2</th>\n      <td>3</td>\n      <td>Venusaur</td>\n      <td>Grass</td>\n      <td>Poison</td>\n      <td>525</td>\n      <td>80</td>\n      <td>82</td>\n      <td>83</td>\n      <td>100</td>\n      <td>100</td>\n      <td>80</td>\n      <td>1</td>\n      <td>False</td>\n    </tr>\n    <tr>\n      <th>4</th>\n      <td>4</td>\n      <td>Charmander</td>\n      <td>Fire</td>\n      <td>NaN</td>\n      <td>309</td>\n      <td>39</td>\n      <td>52</td>\n      <td>43</td>\n      <td>60</td>\n      <td>50</td>\n      <td>65</td>\n      <td>1</td>\n      <td>False</td>\n    </tr>\n    <tr>\n      <th>5</th>\n      <td>5</td>\n      <td>Charmeleon</td>\n      <td>Fire</td>\n      <td>NaN</td>\n      <td>405</td>\n      <td>58</td>\n      <td>64</td>\n      <td>58</td>\n      <td>80</td>\n      <td>65</td>\n      <td>80</td>\n      <td>1</td>\n      <td>False</td>\n    </tr>\n    <tr>\n      <th>...</th>\n      <td>...</td>\n      <td>...</td>\n      <td>...</td>\n      <td>...</td>\n      <td>...</td>\n      <td>...</td>\n      <td>...</td>\n      <td>...</td>\n      <td>...</td>\n      <td>...</td>\n      <td>...</td>\n      <td>...</td>\n      <td>...</td>\n    </tr>\n    <tr>\n      <th>794</th>\n      <td>718</td>\n      <td>Zygarde50% Forme</td>\n      <td>Dragon</td>\n      <td>Ground</td>\n      <td>600</td>\n      <td>108</td>\n      <td>100</td>\n      <td>121</td>\n      <td>81</td>\n      <td>95</td>\n      <td>95</td>\n      <td>6</td>\n      <td>True</td>\n    </tr>\n    <tr>\n      <th>795</th>\n      <td>719</td>\n      <td>Diancie</td>\n      <td>Rock</td>\n      <td>Fairy</td>\n      <td>600</td>\n      <td>50</td>\n      <td>100</td>\n      <td>150</td>\n      <td>100</td>\n      <td>150</td>\n      <td>50</td>\n      <td>6</td>\n      <td>True</td>\n    </tr>\n    <tr>\n      <th>797</th>\n      <td>720</td>\n      <td>HoopaHoopa Confined</td>\n      <td>Psychic</td>\n      <td>Ghost</td>\n      <td>600</td>\n      <td>80</td>\n      <td>110</td>\n      <td>60</td>\n      <td>150</td>\n      <td>130</td>\n      <td>70</td>\n      <td>6</td>\n      <td>True</td>\n    </tr>\n    <tr>\n      <th>798</th>\n      <td>720</td>\n      <td>HoopaHoopa Unbound</td>\n      <td>Psychic</td>\n      <td>Dark</td>\n      <td>680</td>\n      <td>80</td>\n      <td>160</td>\n      <td>60</td>\n      <td>170</td>\n      <td>130</td>\n      <td>80</td>\n      <td>6</td>\n      <td>True</td>\n    </tr>\n    <tr>\n      <th>799</th>\n      <td>721</td>\n      <td>Volcanion</td>\n      <td>Fire</td>\n      <td>Water</td>\n      <td>600</td>\n      <td>80</td>\n      <td>110</td>\n      <td>120</td>\n      <td>130</td>\n      <td>90</td>\n      <td>70</td>\n      <td>6</td>\n      <td>True</td>\n    </tr>\n  </tbody>\n</table>\n<p>751 rows × 13 columns</p>\n</div>"
     },
     "metadata": {},
     "execution_count": 127
    }
   ],
   "source": [
    "# Advanced Filtering 1 (separate conditions with parentheses)\n",
    "\n",
    "# df.loc[(df['Type 1'] == \"Fire\") & (df['Type 2'] == \"Flying\")] #AND\n",
    "# df.loc[(df['Type 1'] == \"Fire\") | (df['Type 2'] == \"Water\")][0:20] #OR\n",
    "# df.loc[((df['Type 1'] == \"Fire\") | (df['Type 2'] == \"Water\")) & (df['HP'] > 80)][0:10] #Both\n",
    "\n",
    "# for \"not/inverse\" don't use '!' use '~' instead \n",
    "df.loc[~df['Name'].str.contains('Mega')] #all the pokemons that dont have Mega in their name"
   ]
  },
  {
   "cell_type": "code",
   "execution_count": 124,
   "metadata": {},
   "outputs": [
    {
     "output_type": "execute_result",
     "data": {
      "text/plain": [
       "     #                       Name Type 1  Type 2  Total   HP  Attack  Defense  \\\n",
       "0    6                  Charizard   Fire  Flying    534   78      84       78   \n",
       "1    6  CharizardMega Charizard Y   Fire  Flying    634   78     104       78   \n",
       "2  146                    Moltres   Fire  Flying    580   90     100       90   \n",
       "3  250                      Ho-oh   Fire  Flying    680  106     130       90   \n",
       "4  662                Fletchinder   Fire  Flying    382   62      73       55   \n",
       "5  663                 Talonflame   Fire  Flying    499   78      81       71   \n",
       "\n",
       "   Sp. Atk  Sp. Def  Speed  Generation  Legendary  \n",
       "0      109       85    100           1      False  \n",
       "1      159      115    100           1      False  \n",
       "2      125       85     90           1       True  \n",
       "3      110      154     90           2       True  \n",
       "4       56       52     84           6      False  \n",
       "5       74       69    126           6      False  "
      ],
      "text/html": "<div>\n<style scoped>\n    .dataframe tbody tr th:only-of-type {\n        vertical-align: middle;\n    }\n\n    .dataframe tbody tr th {\n        vertical-align: top;\n    }\n\n    .dataframe thead th {\n        text-align: right;\n    }\n</style>\n<table border=\"1\" class=\"dataframe\">\n  <thead>\n    <tr style=\"text-align: right;\">\n      <th></th>\n      <th>#</th>\n      <th>Name</th>\n      <th>Type 1</th>\n      <th>Type 2</th>\n      <th>Total</th>\n      <th>HP</th>\n      <th>Attack</th>\n      <th>Defense</th>\n      <th>Sp. Atk</th>\n      <th>Sp. Def</th>\n      <th>Speed</th>\n      <th>Generation</th>\n      <th>Legendary</th>\n    </tr>\n  </thead>\n  <tbody>\n    <tr>\n      <th>0</th>\n      <td>6</td>\n      <td>Charizard</td>\n      <td>Fire</td>\n      <td>Flying</td>\n      <td>534</td>\n      <td>78</td>\n      <td>84</td>\n      <td>78</td>\n      <td>109</td>\n      <td>85</td>\n      <td>100</td>\n      <td>1</td>\n      <td>False</td>\n    </tr>\n    <tr>\n      <th>1</th>\n      <td>6</td>\n      <td>CharizardMega Charizard Y</td>\n      <td>Fire</td>\n      <td>Flying</td>\n      <td>634</td>\n      <td>78</td>\n      <td>104</td>\n      <td>78</td>\n      <td>159</td>\n      <td>115</td>\n      <td>100</td>\n      <td>1</td>\n      <td>False</td>\n    </tr>\n    <tr>\n      <th>2</th>\n      <td>146</td>\n      <td>Moltres</td>\n      <td>Fire</td>\n      <td>Flying</td>\n      <td>580</td>\n      <td>90</td>\n      <td>100</td>\n      <td>90</td>\n      <td>125</td>\n      <td>85</td>\n      <td>90</td>\n      <td>1</td>\n      <td>True</td>\n    </tr>\n    <tr>\n      <th>3</th>\n      <td>250</td>\n      <td>Ho-oh</td>\n      <td>Fire</td>\n      <td>Flying</td>\n      <td>680</td>\n      <td>106</td>\n      <td>130</td>\n      <td>90</td>\n      <td>110</td>\n      <td>154</td>\n      <td>90</td>\n      <td>2</td>\n      <td>True</td>\n    </tr>\n    <tr>\n      <th>4</th>\n      <td>662</td>\n      <td>Fletchinder</td>\n      <td>Fire</td>\n      <td>Flying</td>\n      <td>382</td>\n      <td>62</td>\n      <td>73</td>\n      <td>55</td>\n      <td>56</td>\n      <td>52</td>\n      <td>84</td>\n      <td>6</td>\n      <td>False</td>\n    </tr>\n    <tr>\n      <th>5</th>\n      <td>663</td>\n      <td>Talonflame</td>\n      <td>Fire</td>\n      <td>Flying</td>\n      <td>499</td>\n      <td>78</td>\n      <td>81</td>\n      <td>71</td>\n      <td>74</td>\n      <td>69</td>\n      <td>126</td>\n      <td>6</td>\n      <td>False</td>\n    </tr>\n  </tbody>\n</table>\n</div>"
     },
     "metadata": {},
     "execution_count": 124
    }
   ],
   "source": [
    "# Resetting index\n",
    "\n",
    "df_new = df.loc[(df['Type 1'] == \"Fire\") & (df['Type 2'] == \"Flying\")] #AND\n",
    "df_new = df_new.reset_index(drop = True) #Drop: get rid of old index\n",
    "df_new\n",
    "\n",
    "# can also use inplace = True (memory intensive but doesnt need to do df_new = df_new) changes already existing index"
   ]
  },
  {
   "cell_type": "code",
   "execution_count": 132,
   "metadata": {},
   "outputs": [
    {
     "output_type": "execute_result",
     "data": {
      "text/plain": [
       "       #                 Name    Type 1    Type 2  Total   HP  Attack  \\\n",
       "20    16               Pidgey    Normal    Flying    251   40      45   \n",
       "21    17            Pidgeotto    Normal    Flying    349   63      60   \n",
       "22    18              Pidgeot    Normal    Flying    479   83      80   \n",
       "23    18  PidgeotMega Pidgeot    Normal    Flying    579   83      80   \n",
       "30    25              Pikachu  Electric       NaN    320   35      55   \n",
       "136  127               Pinsir       Bug       NaN    500   65     125   \n",
       "137  127    PinsirMega Pinsir       Bug    Flying    600   65     155   \n",
       "186  172                Pichu  Electric       NaN    205   20      40   \n",
       "219  204               Pineco       Bug       NaN    290   50      65   \n",
       "239  221            Piloswine       Ice    Ground    450  100     100   \n",
       "438  393               Piplup     Water       NaN    314   53      51   \n",
       "558  499              Pignite      Fire  Fighting    418   90      93   \n",
       "578  519               Pidove    Normal    Flying    264   50      55   \n",
       "\n",
       "     Defense  Sp. Atk  Sp. Def  Speed  Generation  Legendary  \n",
       "20        40       35       35     56           1      False  \n",
       "21        55       50       50     71           1      False  \n",
       "22        75       70       70    101           1      False  \n",
       "23        80      135       80    121           1      False  \n",
       "30        40       50       50     90           1      False  \n",
       "136      100       55       70     85           1      False  \n",
       "137      120       65       90    105           1      False  \n",
       "186       15       35       35     60           2      False  \n",
       "219       90       35       35     15           2      False  \n",
       "239       80       60       60     50           2      False  \n",
       "438       53       61       56     40           4      False  \n",
       "558       55       70       55     55           5      False  \n",
       "578       50       36       30     43           5      False  "
      ],
      "text/html": "<div>\n<style scoped>\n    .dataframe tbody tr th:only-of-type {\n        vertical-align: middle;\n    }\n\n    .dataframe tbody tr th {\n        vertical-align: top;\n    }\n\n    .dataframe thead th {\n        text-align: right;\n    }\n</style>\n<table border=\"1\" class=\"dataframe\">\n  <thead>\n    <tr style=\"text-align: right;\">\n      <th></th>\n      <th>#</th>\n      <th>Name</th>\n      <th>Type 1</th>\n      <th>Type 2</th>\n      <th>Total</th>\n      <th>HP</th>\n      <th>Attack</th>\n      <th>Defense</th>\n      <th>Sp. Atk</th>\n      <th>Sp. Def</th>\n      <th>Speed</th>\n      <th>Generation</th>\n      <th>Legendary</th>\n    </tr>\n  </thead>\n  <tbody>\n    <tr>\n      <th>20</th>\n      <td>16</td>\n      <td>Pidgey</td>\n      <td>Normal</td>\n      <td>Flying</td>\n      <td>251</td>\n      <td>40</td>\n      <td>45</td>\n      <td>40</td>\n      <td>35</td>\n      <td>35</td>\n      <td>56</td>\n      <td>1</td>\n      <td>False</td>\n    </tr>\n    <tr>\n      <th>21</th>\n      <td>17</td>\n      <td>Pidgeotto</td>\n      <td>Normal</td>\n      <td>Flying</td>\n      <td>349</td>\n      <td>63</td>\n      <td>60</td>\n      <td>55</td>\n      <td>50</td>\n      <td>50</td>\n      <td>71</td>\n      <td>1</td>\n      <td>False</td>\n    </tr>\n    <tr>\n      <th>22</th>\n      <td>18</td>\n      <td>Pidgeot</td>\n      <td>Normal</td>\n      <td>Flying</td>\n      <td>479</td>\n      <td>83</td>\n      <td>80</td>\n      <td>75</td>\n      <td>70</td>\n      <td>70</td>\n      <td>101</td>\n      <td>1</td>\n      <td>False</td>\n    </tr>\n    <tr>\n      <th>23</th>\n      <td>18</td>\n      <td>PidgeotMega Pidgeot</td>\n      <td>Normal</td>\n      <td>Flying</td>\n      <td>579</td>\n      <td>83</td>\n      <td>80</td>\n      <td>80</td>\n      <td>135</td>\n      <td>80</td>\n      <td>121</td>\n      <td>1</td>\n      <td>False</td>\n    </tr>\n    <tr>\n      <th>30</th>\n      <td>25</td>\n      <td>Pikachu</td>\n      <td>Electric</td>\n      <td>NaN</td>\n      <td>320</td>\n      <td>35</td>\n      <td>55</td>\n      <td>40</td>\n      <td>50</td>\n      <td>50</td>\n      <td>90</td>\n      <td>1</td>\n      <td>False</td>\n    </tr>\n    <tr>\n      <th>136</th>\n      <td>127</td>\n      <td>Pinsir</td>\n      <td>Bug</td>\n      <td>NaN</td>\n      <td>500</td>\n      <td>65</td>\n      <td>125</td>\n      <td>100</td>\n      <td>55</td>\n      <td>70</td>\n      <td>85</td>\n      <td>1</td>\n      <td>False</td>\n    </tr>\n    <tr>\n      <th>137</th>\n      <td>127</td>\n      <td>PinsirMega Pinsir</td>\n      <td>Bug</td>\n      <td>Flying</td>\n      <td>600</td>\n      <td>65</td>\n      <td>155</td>\n      <td>120</td>\n      <td>65</td>\n      <td>90</td>\n      <td>105</td>\n      <td>1</td>\n      <td>False</td>\n    </tr>\n    <tr>\n      <th>186</th>\n      <td>172</td>\n      <td>Pichu</td>\n      <td>Electric</td>\n      <td>NaN</td>\n      <td>205</td>\n      <td>20</td>\n      <td>40</td>\n      <td>15</td>\n      <td>35</td>\n      <td>35</td>\n      <td>60</td>\n      <td>2</td>\n      <td>False</td>\n    </tr>\n    <tr>\n      <th>219</th>\n      <td>204</td>\n      <td>Pineco</td>\n      <td>Bug</td>\n      <td>NaN</td>\n      <td>290</td>\n      <td>50</td>\n      <td>65</td>\n      <td>90</td>\n      <td>35</td>\n      <td>35</td>\n      <td>15</td>\n      <td>2</td>\n      <td>False</td>\n    </tr>\n    <tr>\n      <th>239</th>\n      <td>221</td>\n      <td>Piloswine</td>\n      <td>Ice</td>\n      <td>Ground</td>\n      <td>450</td>\n      <td>100</td>\n      <td>100</td>\n      <td>80</td>\n      <td>60</td>\n      <td>60</td>\n      <td>50</td>\n      <td>2</td>\n      <td>False</td>\n    </tr>\n    <tr>\n      <th>438</th>\n      <td>393</td>\n      <td>Piplup</td>\n      <td>Water</td>\n      <td>NaN</td>\n      <td>314</td>\n      <td>53</td>\n      <td>51</td>\n      <td>53</td>\n      <td>61</td>\n      <td>56</td>\n      <td>40</td>\n      <td>4</td>\n      <td>False</td>\n    </tr>\n    <tr>\n      <th>558</th>\n      <td>499</td>\n      <td>Pignite</td>\n      <td>Fire</td>\n      <td>Fighting</td>\n      <td>418</td>\n      <td>90</td>\n      <td>93</td>\n      <td>55</td>\n      <td>70</td>\n      <td>55</td>\n      <td>55</td>\n      <td>5</td>\n      <td>False</td>\n    </tr>\n    <tr>\n      <th>578</th>\n      <td>519</td>\n      <td>Pidove</td>\n      <td>Normal</td>\n      <td>Flying</td>\n      <td>264</td>\n      <td>50</td>\n      <td>55</td>\n      <td>50</td>\n      <td>36</td>\n      <td>30</td>\n      <td>43</td>\n      <td>5</td>\n      <td>False</td>\n    </tr>\n  </tbody>\n</table>\n</div>"
     },
     "metadata": {},
     "execution_count": 132
    }
   ],
   "source": [
    "#Advanced Filtering 2\n",
    "\n",
    "#regular expressions\n",
    "import re\n",
    "\n",
    "# All pokemons that are neither Fire nor Water\n",
    "# df.loc[~df['Type 1'].str.contains('Fire|Water', regex=True)] \n",
    "#^^ above example case sensitive\n",
    "\n",
    "# To ignore case\n",
    "# df.loc[~df['Type 1'].str.contains('fire|water', flags=re.I, regex=True)]\n",
    "\n",
    "\n",
    "# Pokemon that Starts with Pi\n",
    "\n",
    "df.loc[df['Name'].str.contains('^pi[a-z]*', flags=re.I, regex=True)] # pi se agay [a-z] koi sa bhi letter ho sakhta hy\n",
    "# * means 0 or more\n",
    "# ^ means start of the string"
   ]
  },
  {
   "cell_type": "code",
   "execution_count": 181,
   "metadata": {},
   "outputs": [
    {
     "output_type": "execute_result",
     "data": {
      "text/plain": [
       "       #                   Name   Type 1  Type 2  Total  HP  Attack  Defense  \\\n",
       "0      1              Bulbasaur    Grass  Poison    318  45      49       49   \n",
       "1      2                Ivysaur    Grass  Poison    405  60      62       63   \n",
       "2      3               Venusaur    Grass  Poison    525  80      82       83   \n",
       "3      3  VenusaurMega Venusaur    Grass  Poison    625  80     100      123   \n",
       "4      4             Charmander     Fire     NaN    309  39      52       43   \n",
       "..   ...                    ...      ...     ...    ...  ..     ...      ...   \n",
       "795  719                Diancie     Rock   Fairy    600  50     100      150   \n",
       "796  719    DiancieMega Diancie     Rock   Fairy    700  50     160      110   \n",
       "797  720    HoopaHoopa Confined  Psychic   Ghost    600  80     110       60   \n",
       "798  720     HoopaHoopa Unbound  Psychic    Dark    680  80     160       60   \n",
       "799  721              Volcanion     Fire   Water    600  80     110      120   \n",
       "\n",
       "     Sp. Atk  Sp. Def  Speed Generation Legendary  \n",
       "0         65       65     45          1     False  \n",
       "1         80       80     60          1     False  \n",
       "2        100      100     80          1     False  \n",
       "3        122      120     80   Next Gen      TEST  \n",
       "4         60       50     65          1     False  \n",
       "..       ...      ...    ...        ...       ...  \n",
       "795      100      150     50          6      True  \n",
       "796      160      110    110   Next Gen      TEST  \n",
       "797      150      130     70          6      True  \n",
       "798      170      130     80   Next Gen      TEST  \n",
       "799      130       90     70          6      True  \n",
       "\n",
       "[800 rows x 13 columns]"
      ],
      "text/html": "<div>\n<style scoped>\n    .dataframe tbody tr th:only-of-type {\n        vertical-align: middle;\n    }\n\n    .dataframe tbody tr th {\n        vertical-align: top;\n    }\n\n    .dataframe thead th {\n        text-align: right;\n    }\n</style>\n<table border=\"1\" class=\"dataframe\">\n  <thead>\n    <tr style=\"text-align: right;\">\n      <th></th>\n      <th>#</th>\n      <th>Name</th>\n      <th>Type 1</th>\n      <th>Type 2</th>\n      <th>Total</th>\n      <th>HP</th>\n      <th>Attack</th>\n      <th>Defense</th>\n      <th>Sp. Atk</th>\n      <th>Sp. Def</th>\n      <th>Speed</th>\n      <th>Generation</th>\n      <th>Legendary</th>\n    </tr>\n  </thead>\n  <tbody>\n    <tr>\n      <th>0</th>\n      <td>1</td>\n      <td>Bulbasaur</td>\n      <td>Grass</td>\n      <td>Poison</td>\n      <td>318</td>\n      <td>45</td>\n      <td>49</td>\n      <td>49</td>\n      <td>65</td>\n      <td>65</td>\n      <td>45</td>\n      <td>1</td>\n      <td>False</td>\n    </tr>\n    <tr>\n      <th>1</th>\n      <td>2</td>\n      <td>Ivysaur</td>\n      <td>Grass</td>\n      <td>Poison</td>\n      <td>405</td>\n      <td>60</td>\n      <td>62</td>\n      <td>63</td>\n      <td>80</td>\n      <td>80</td>\n      <td>60</td>\n      <td>1</td>\n      <td>False</td>\n    </tr>\n    <tr>\n      <th>2</th>\n      <td>3</td>\n      <td>Venusaur</td>\n      <td>Grass</td>\n      <td>Poison</td>\n      <td>525</td>\n      <td>80</td>\n      <td>82</td>\n      <td>83</td>\n      <td>100</td>\n      <td>100</td>\n      <td>80</td>\n      <td>1</td>\n      <td>False</td>\n    </tr>\n    <tr>\n      <th>3</th>\n      <td>3</td>\n      <td>VenusaurMega Venusaur</td>\n      <td>Grass</td>\n      <td>Poison</td>\n      <td>625</td>\n      <td>80</td>\n      <td>100</td>\n      <td>123</td>\n      <td>122</td>\n      <td>120</td>\n      <td>80</td>\n      <td>Next Gen</td>\n      <td>TEST</td>\n    </tr>\n    <tr>\n      <th>4</th>\n      <td>4</td>\n      <td>Charmander</td>\n      <td>Fire</td>\n      <td>NaN</td>\n      <td>309</td>\n      <td>39</td>\n      <td>52</td>\n      <td>43</td>\n      <td>60</td>\n      <td>50</td>\n      <td>65</td>\n      <td>1</td>\n      <td>False</td>\n    </tr>\n    <tr>\n      <th>...</th>\n      <td>...</td>\n      <td>...</td>\n      <td>...</td>\n      <td>...</td>\n      <td>...</td>\n      <td>...</td>\n      <td>...</td>\n      <td>...</td>\n      <td>...</td>\n      <td>...</td>\n      <td>...</td>\n      <td>...</td>\n      <td>...</td>\n    </tr>\n    <tr>\n      <th>795</th>\n      <td>719</td>\n      <td>Diancie</td>\n      <td>Rock</td>\n      <td>Fairy</td>\n      <td>600</td>\n      <td>50</td>\n      <td>100</td>\n      <td>150</td>\n      <td>100</td>\n      <td>150</td>\n      <td>50</td>\n      <td>6</td>\n      <td>True</td>\n    </tr>\n    <tr>\n      <th>796</th>\n      <td>719</td>\n      <td>DiancieMega Diancie</td>\n      <td>Rock</td>\n      <td>Fairy</td>\n      <td>700</td>\n      <td>50</td>\n      <td>160</td>\n      <td>110</td>\n      <td>160</td>\n      <td>110</td>\n      <td>110</td>\n      <td>Next Gen</td>\n      <td>TEST</td>\n    </tr>\n    <tr>\n      <th>797</th>\n      <td>720</td>\n      <td>HoopaHoopa Confined</td>\n      <td>Psychic</td>\n      <td>Ghost</td>\n      <td>600</td>\n      <td>80</td>\n      <td>110</td>\n      <td>60</td>\n      <td>150</td>\n      <td>130</td>\n      <td>70</td>\n      <td>6</td>\n      <td>True</td>\n    </tr>\n    <tr>\n      <th>798</th>\n      <td>720</td>\n      <td>HoopaHoopa Unbound</td>\n      <td>Psychic</td>\n      <td>Dark</td>\n      <td>680</td>\n      <td>80</td>\n      <td>160</td>\n      <td>60</td>\n      <td>170</td>\n      <td>130</td>\n      <td>80</td>\n      <td>Next Gen</td>\n      <td>TEST</td>\n    </tr>\n    <tr>\n      <th>799</th>\n      <td>721</td>\n      <td>Volcanion</td>\n      <td>Fire</td>\n      <td>Water</td>\n      <td>600</td>\n      <td>80</td>\n      <td>110</td>\n      <td>120</td>\n      <td>130</td>\n      <td>90</td>\n      <td>70</td>\n      <td>6</td>\n      <td>True</td>\n    </tr>\n  </tbody>\n</table>\n<p>800 rows × 13 columns</p>\n</div>"
     },
     "metadata": {},
     "execution_count": 181
    }
   ],
   "source": [
    "# Changing DataFrame 2\n",
    "\n",
    "# where Type 1 == Fire change Type 1 to Electric\n",
    "# df_temp.loc[df['Type 1'] == 'Fire', 'Type 1'] = 'Electric'\n",
    "\n",
    "# Where Name = Mega change it to Hello\n",
    "# df.loc[df.['Name'].str.contains('Mega'), 'Name'] = \"Hello\"  \n",
    "\n",
    "df = pd.read_csv('modified_pokemon.csv')\n",
    "\n",
    "# Modify Multiple things at the same time\n",
    "df.loc[df['Total'] > 600, ['Generation', 'Legendary']] = [\"Next Gen\", 'TEST']\n",
    "df"
   ]
  },
  {
   "cell_type": "code",
   "execution_count": null,
   "metadata": {},
   "outputs": [],
   "source": []
  },
  {
   "cell_type": "code",
   "execution_count": null,
   "metadata": {},
   "outputs": [],
   "source": []
  },
  {
   "cell_type": "code",
   "execution_count": null,
   "metadata": {},
   "outputs": [],
   "source": []
  },
  {
   "cell_type": "code",
   "execution_count": null,
   "metadata": {},
   "outputs": [],
   "source": []
  },
  {
   "cell_type": "code",
   "execution_count": null,
   "metadata": {},
   "outputs": [],
   "source": []
  },
  {
   "cell_type": "code",
   "execution_count": null,
   "metadata": {},
   "outputs": [],
   "source": []
  }
 ]
}