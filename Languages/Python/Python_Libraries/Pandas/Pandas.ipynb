{
 "metadata": {
  "language_info": {
   "codemirror_mode": {
    "name": "ipython",
    "version": 3
   },
   "file_extension": ".py",
   "mimetype": "text/x-python",
   "name": "python",
   "nbconvert_exporter": "python",
   "pygments_lexer": "ipython3",
   "version": "3.9.1-final"
  },
  "orig_nbformat": 2,
  "kernelspec": {
   "name": "python3",
   "display_name": "Python 3.9.1 64-bit",
   "metadata": {
    "interpreter": {
     "hash": "63fd5069d213b44bf678585dea6b12cceca9941eaf7f819626cde1f2670de90d"
    }
   }
  }
 },
 "nbformat": 4,
 "nbformat_minor": 2,
 "cells": [
  {
   "cell_type": "code",
   "execution_count": 1,
   "metadata": {},
   "outputs": [],
   "source": [
    "#pip install pandas\n",
    "#read all the comments\n",
    "import pandas as pd\n",
    "\n",
    "df = pd.read_csv('pokemon_data.csv')\n",
    "# print(df.head(3))\n",
    "\n",
    "df_xlsx = pd.read_excel('pokemon_data.xlsx')\n",
    "# print(df_xlsx.head(3))\n",
    "\n",
    "#reading txt file using read_csv\n",
    "df_txt = pd.read_csv('pokemon_data.txt', delimiter='\\t')\n",
    "# print(df_txt.head(5))\n"
   ]
  },
  {
   "cell_type": "code",
   "execution_count": 2,
   "metadata": {},
   "outputs": [
    {
     "output_type": "execute_result",
     "data": {
      "text/plain": [
       "Index(['#', 'Name', 'Type 1', 'Type 2', 'HP', 'Attack', 'Defense', 'Sp. Atk',\n",
       "       'Sp. Def', 'Speed', 'Generation', 'Legendary'],\n",
       "      dtype='object')"
      ]
     },
     "metadata": {},
     "execution_count": 2
    }
   ],
   "source": [
    "#Headers\n",
    "df.columns"
   ]
  },
  {
   "cell_type": "code",
   "execution_count": null,
   "metadata": {},
   "outputs": [],
   "source": [
    "#Read single column (last 5)\n",
    "df['Name'][-5:]"
   ]
  },
  {
   "cell_type": "code",
   "execution_count": null,
   "metadata": {},
   "outputs": [],
   "source": [
    "#Read multiple columns\n",
    "df[['Name', 'HP']][0:5]"
   ]
  },
  {
   "cell_type": "code",
   "execution_count": null,
   "metadata": {},
   "outputs": [],
   "source": [
    "#Read single row\n",
    "df.iloc[1]"
   ]
  },
  {
   "cell_type": "code",
   "execution_count": null,
   "metadata": {},
   "outputs": [],
   "source": [
    "#Read multiple rows\n",
    "df.iloc[1:8]"
   ]
  },
  {
   "cell_type": "code",
   "execution_count": null,
   "metadata": {},
   "outputs": [],
   "source": [
    "#Read specific location [row , column]\n",
    "df.iloc[3,1]"
   ]
  },
  {
   "cell_type": "code",
   "execution_count": null,
   "metadata": {},
   "outputs": [],
   "source": [
    "#Read specific rows and columns \n",
    "df[['Name', 'Type 1', 'Type 2']].iloc[0:5]\n",
    "# df.iloc[0:5,0:4]"
   ]
  },
  {
   "cell_type": "code",
   "execution_count": null,
   "metadata": {},
   "outputs": [],
   "source": [
    "# Itterate over rows (useful for data manipulation)\n",
    "for index, row in df.iterrows():\n",
    "    print(index, row['Name'])\n",
    "\n",
    "# df['Name'].iloc[:]"
   ]
  },
  {
   "cell_type": "code",
   "execution_count": null,
   "metadata": {},
   "outputs": [],
   "source": [
    "# Conditional Statements 1 / Basic Filtering\n",
    "\n",
    "# The main difference Between iloc and loc is..........: \n",
    "# loc is Label based\n",
    "# iloc is Index based\n",
    "\n",
    "df.loc[df['Type 1'] == \"Fire\"][-5:]"
   ]
  },
  {
   "cell_type": "code",
   "execution_count": null,
   "metadata": {},
   "outputs": [],
   "source": [
    "# Find important mathematical information about the data like mean, variance ect\n",
    "df.describe()"
   ]
  },
  {
   "cell_type": "code",
   "execution_count": null,
   "metadata": {},
   "outputs": [],
   "source": [
    "# Sorting\n",
    "# df.sort_values('Name', ascending=False)\n",
    "df.sort_values(['Type 1', 'HP'], ascending=[1,0])[0:5] #define true false for both (type 1 = assending, hp = decending)"
   ]
  },
  {
   "cell_type": "code",
   "execution_count": 2,
   "metadata": {},
   "outputs": [
    {
     "output_type": "execute_result",
     "data": {
      "text/plain": [
       "       #                   Name   Type 1    Type 2   HP  Attack  Defense  \\\n",
       "426  384  RayquazaMega Rayquaza   Dragon    Flying  105     180      100   \n",
       "164  150    MewtwoMega Mewtwo Y  Psychic       NaN  106     150       70   \n",
       "163  150    MewtwoMega Mewtwo X  Psychic  Fighting  106     190      100   \n",
       "422  382    KyogrePrimal Kyogre    Water       NaN  100     150       90   \n",
       "424  383  GroudonPrimal Groudon   Ground      Fire  100     180      160   \n",
       "\n",
       "     Sp. Atk  Sp. Def  Speed  Generation  Legendary  Total  \n",
       "426      180      100    115           3       True    780  \n",
       "164      194      120    140           1       True    780  \n",
       "163      154      100    130           1       True    780  \n",
       "422      180      160     90           3       True    770  \n",
       "424      150       90     90           3       True    770  "
      ],
      "text/html": "<div>\n<style scoped>\n    .dataframe tbody tr th:only-of-type {\n        vertical-align: middle;\n    }\n\n    .dataframe tbody tr th {\n        vertical-align: top;\n    }\n\n    .dataframe thead th {\n        text-align: right;\n    }\n</style>\n<table border=\"1\" class=\"dataframe\">\n  <thead>\n    <tr style=\"text-align: right;\">\n      <th></th>\n      <th>#</th>\n      <th>Name</th>\n      <th>Type 1</th>\n      <th>Type 2</th>\n      <th>HP</th>\n      <th>Attack</th>\n      <th>Defense</th>\n      <th>Sp. Atk</th>\n      <th>Sp. Def</th>\n      <th>Speed</th>\n      <th>Generation</th>\n      <th>Legendary</th>\n      <th>Total</th>\n    </tr>\n  </thead>\n  <tbody>\n    <tr>\n      <th>426</th>\n      <td>384</td>\n      <td>RayquazaMega Rayquaza</td>\n      <td>Dragon</td>\n      <td>Flying</td>\n      <td>105</td>\n      <td>180</td>\n      <td>100</td>\n      <td>180</td>\n      <td>100</td>\n      <td>115</td>\n      <td>3</td>\n      <td>True</td>\n      <td>780</td>\n    </tr>\n    <tr>\n      <th>164</th>\n      <td>150</td>\n      <td>MewtwoMega Mewtwo Y</td>\n      <td>Psychic</td>\n      <td>NaN</td>\n      <td>106</td>\n      <td>150</td>\n      <td>70</td>\n      <td>194</td>\n      <td>120</td>\n      <td>140</td>\n      <td>1</td>\n      <td>True</td>\n      <td>780</td>\n    </tr>\n    <tr>\n      <th>163</th>\n      <td>150</td>\n      <td>MewtwoMega Mewtwo X</td>\n      <td>Psychic</td>\n      <td>Fighting</td>\n      <td>106</td>\n      <td>190</td>\n      <td>100</td>\n      <td>154</td>\n      <td>100</td>\n      <td>130</td>\n      <td>1</td>\n      <td>True</td>\n      <td>780</td>\n    </tr>\n    <tr>\n      <th>422</th>\n      <td>382</td>\n      <td>KyogrePrimal Kyogre</td>\n      <td>Water</td>\n      <td>NaN</td>\n      <td>100</td>\n      <td>150</td>\n      <td>90</td>\n      <td>180</td>\n      <td>160</td>\n      <td>90</td>\n      <td>3</td>\n      <td>True</td>\n      <td>770</td>\n    </tr>\n    <tr>\n      <th>424</th>\n      <td>383</td>\n      <td>GroudonPrimal Groudon</td>\n      <td>Ground</td>\n      <td>Fire</td>\n      <td>100</td>\n      <td>180</td>\n      <td>160</td>\n      <td>150</td>\n      <td>90</td>\n      <td>90</td>\n      <td>3</td>\n      <td>True</td>\n      <td>770</td>\n    </tr>\n  </tbody>\n</table>\n</div>"
     },
     "metadata": {},
     "execution_count": 2
    }
   ],
   "source": [
    "# Changing DataFrame 1\n",
    "\n",
    "#adding new column named total\n",
    "# df['Total'] = df['HP'] + df['Attack'] + df['Defense'] + df['Sp. Atk'] + df['Sp. Def'] + df['Speed'] \n",
    "\n",
    "\n",
    "# [:] = all elements or all rows in this case\n",
    "# adding new column using iloc[for what rows you want to add the column to, for which columns you want to sum (.sum (horizontal))] \n",
    "\n",
    "df['Total'] = df.iloc[:, 4:10].sum(axis=1) #axis = 1: Horizontal, axis = 0: vertical\n",
    "#Hiba ye^^ puch lena agar samaj na aye tou\n",
    "\n",
    "# df.head(5)\n",
    "\n",
    "#sort values according to the new column\n",
    "df.sort_values(['Total'], ascending=False)[0:5]"
   ]
  },
  {
   "cell_type": "code",
   "execution_count": null,
   "metadata": {},
   "outputs": [],
   "source": [
    "# Removing a Column\n",
    "\n",
    "df = df.drop(columns=['Total'])\n",
    "\n",
    "df.head(5)"
   ]
  },
  {
   "cell_type": "code",
   "execution_count": null,
   "metadata": {},
   "outputs": [],
   "source": [
    "# Rearranging Columns\n",
    "# df = krna zaroori hy because wapis save krna parta hy dataframe main\n",
    "# df = df[['#', 'Name', 'Total', 'HP', 'Type 1', 'Type 2']] #very annyoying method but easy to understand\n",
    "\n",
    "# get columns as a list\n",
    "cols = list(df.columns.values)\n",
    "cols #isko print krke dekh lena\n",
    "\n",
    "#first 4 columns then the last columns then the other columns\n",
    "df = df[cols[0:4] + cols[-1:] + cols[4:12]]\n",
    "\n",
    "df.head(5)\n"
   ]
  },
  {
   "cell_type": "code",
   "execution_count": null,
   "metadata": {},
   "outputs": [],
   "source": [
    "# Save The DataFrame a new file \n",
    "df.to_csv('modified_pokemon.csv', index=False) #stop index from repeating \n",
    "df.to_excel('modified_pokemon.xlsx', index=False) \n",
    "df.to_csv('modified_pokemon.txt', index=False, sep='\\t') #add sperator so when reading .txt we can use delimiter to identify columns"
   ]
  },
  {
   "cell_type": "code",
   "execution_count": null,
   "metadata": {},
   "outputs": [],
   "source": [
    "# Advanced Filtering 1 (separate conditions with parentheses)\n",
    "\n",
    "# df.loc[(df['Type 1'] == \"Fire\") & (df['Type 2'] == \"Flying\")] #AND\n",
    "# df.loc[(df['Type 1'] == \"Fire\") | (df['Type 2'] == \"Water\")][0:20] #OR\n",
    "# df.loc[((df['Type 1'] == \"Fire\") | (df['Type 2'] == \"Water\")) & (df['HP'] > 80)][0:10] #Both\n",
    "\n",
    "# for \"not/inverse\" don't use '!' use '~' instead \n",
    "df.loc[~df['Name'].str.contains('Mega')] #all the pokemons that dont have Mega in their name"
   ]
  },
  {
   "cell_type": "code",
   "execution_count": null,
   "metadata": {},
   "outputs": [],
   "source": [
    "# Resetting index\n",
    "\n",
    "df_new = df.loc[(df['Type 1'] == \"Fire\") & (df['Type 2'] == \"Flying\")] #AND\n",
    "df_new = df_new.reset_index(drop = True) #Drop: get rid of old index\n",
    "df_new\n",
    "\n",
    "# can also use inplace = True (memory intensive but doesnt need to do df_new = df_new) changes already existing index"
   ]
  },
  {
   "cell_type": "code",
   "execution_count": null,
   "metadata": {},
   "outputs": [],
   "source": [
    "#Advanced Filtering 2\n",
    "\n",
    "#regular expressions\n",
    "import re\n",
    "\n",
    "# All pokemons that are neither Fire nor Water\n",
    "# df.loc[~df['Type 1'].str.contains('Fire|Water', regex=True)] \n",
    "#^^ above example case sensitive\n",
    "\n",
    "# To ignore case\n",
    "# df.loc[~df['Type 1'].str.contains('fire|water', flags=re.I, regex=True)]\n",
    "\n",
    "\n",
    "# Pokemon that Starts with Pi\n",
    "\n",
    "df.loc[df['Name'].str.contains('^pi[a-z]*', flags=re.I, regex=True)] # pi se agay [a-z] koi sa bhi letter ho sakhta hy\n",
    "# * means 0 or more\n",
    "# ^ means start of the string"
   ]
  },
  {
   "cell_type": "code",
   "execution_count": null,
   "metadata": {},
   "outputs": [],
   "source": [
    "# Changing DataFrame 2\n",
    "\n",
    "# where Type 1 == Fire change Type 1 to Electric\n",
    "# df_temp.loc[df['Type 1'] == 'Fire', 'Type 1'] = 'Electric'\n",
    "\n",
    "# Where Name = Mega change it to Hello\n",
    "# df.loc[df.['Name'].str.contains('Mega'), 'Name'] = \"Hello\"  \n",
    "\n",
    "df = pd.read_csv('modified_pokemon.csv')\n",
    "\n",
    "# Modify Multiple things at the same time\n",
    "df.loc[df['Total'] > 600, ['Generation', 'Legendary']] = [\"Next Gen\", 'TEST']\n",
    "df"
   ]
  },
  {
   "cell_type": "code",
   "execution_count": null,
   "metadata": {},
   "outputs": [],
   "source": [
    "# Group by\n",
    "df = pd.read_csv('modified_pokemon.csv')\n",
    "\n",
    "# df.groupby(['Type 1']).mean() #Sum of stats for all types of pokemon\n",
    "\n",
    "# df.groupby(['Type 2']).mean().sort_values(\"Attack\", ascending=False) # Higest attack of which type 2\n",
    "\n",
    "# df.groupby(['Type 1']).sum()\n",
    "\n",
    "# df.groupby(['Type 1']).count()\n",
    "\n",
    "# To stop information from repeating\n",
    "df['count'] = 1\n",
    "\n",
    "df.groupby(['Type 1']).count()['count']\n"
   ]
  },
  {
   "cell_type": "code",
   "execution_count": null,
   "metadata": {
    "tags": [
     "outputPrepend"
    ]
   },
   "outputs": [],
   "source": [
    "# Dealing with very Large file sizes (for example you cant load a 10gb file into memory)\n",
    "count = 0\n",
    "\n",
    "for df in pd.read_csv('modified_pokemon.csv', chunksize=5): # chunksize = 5 means 5 rows (for loop means 5 rows at a time) (usually a lot more than 5 like 50000)\n",
    "    print(\"\\n\\n Row\", count, \"To Row\", count+4, \": \\n\")\n",
    "    print(df)\n",
    "    count += 5\n"
   ]
  }
 ]
}